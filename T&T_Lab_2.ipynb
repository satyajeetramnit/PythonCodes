{
  "nbformat": 4,
  "nbformat_minor": 0,
  "metadata": {
    "colab": {
      "name": "T&T Lab 2.ipynb",
      "provenance": [],
      "collapsed_sections": [],
      "authorship_tag": "ABX9TyPJoB9A6ximXGE1siDfqCQk",
      "include_colab_link": true
    },
    "kernelspec": {
      "name": "python3",
      "display_name": "Python 3"
    },
    "language_info": {
      "name": "python"
    }
  },
  "cells": [
    {
      "cell_type": "markdown",
      "metadata": {
        "id": "view-in-github",
        "colab_type": "text"
      },
      "source": [
        "<a href=\"https://colab.research.google.com/github/satyajeetramnit/PythonCodes/blob/main/T%26T_Lab_2.ipynb\" target=\"_parent\"><img src=\"https://colab.research.google.com/assets/colab-badge.svg\" alt=\"Open In Colab\"/></a>"
      ]
    },
    {
      "cell_type": "code",
      "execution_count": 1,
      "metadata": {
        "colab": {
          "resources": {
            "http://localhost:8080/nbextensions/google.colab/files.js": {
              "data": "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",
              "ok": true,
              "headers": [
                [
                  "content-type",
                  "application/javascript"
                ]
              ],
              "status": 200,
              "status_text": ""
            }
          },
          "base_uri": "https://localhost:8080/",
          "height": 109
        },
        "id": "jElAlCalJVw6",
        "outputId": "fe531a75-7650-4a07-b7e5-28680e2f44e9"
      },
      "outputs": [
        {
          "output_type": "display_data",
          "data": {
            "text/html": [
              "\n",
              "     <input type=\"file\" id=\"files-56132651-32fe-4041-b5b2-7a7628c8d445\" name=\"files[]\" multiple disabled\n",
              "        style=\"border:none\" />\n",
              "     <output id=\"result-56132651-32fe-4041-b5b2-7a7628c8d445\">\n",
              "      Upload widget is only available when the cell has been executed in the\n",
              "      current browser session. Please rerun this cell to enable.\n",
              "      </output>\n",
              "      <script src=\"/nbextensions/google.colab/files.js\"></script> "
            ],
            "text/plain": [
              "<IPython.core.display.HTML object>"
            ]
          },
          "metadata": {}
        },
        {
          "output_type": "stream",
          "name": "stdout",
          "text": [
            "Saving data1.xlsx to data1.xlsx\n",
            "Saving data2.xlsx to data2.xlsx\n"
          ]
        }
      ],
      "source": [
        "from google.colab import files\n",
        "import pandas as pd\n",
        "from pandas import ExcelWriter\n",
        "from pandas import ExcelFile\n",
        "uploaded = files.upload()\n",
        "filename = list(uploaded.keys())[0]"
      ]
    },
    {
      "cell_type": "code",
      "source": [
        "dfe = pd.read_excel(\"data1.xlsx\")\n",
        "\n",
        "o=0\n",
        "e=0\n",
        "a=0\n",
        "b=0\n",
        "c=0\n",
        "d=0\n",
        "e=0\n",
        "f=0\n",
        "n=0\n",
        "for i in dfe.index:\n",
        "    #print(dfe['Total(48)'][i])\n",
        "    dfe['Total(48)'][i]=(dfe['Total(48)'][i]/48)*100\n",
        "    if(dfe['Total(48)'][i]==0) :\n",
        "      n=n+1\n",
        "    elif(dfe['Total(48)'][i]>=90) :\n",
        "      o=o+1\n",
        "    elif(dfe['Total(48)'][i]>=80) :\n",
        "      e=e+1\n",
        "    elif(dfe['Total(48)'][i]>=70) :\n",
        "      a=a+1\n",
        "    elif(dfe['Total(48)'][i]>=60) :\n",
        "      b=b+1\n",
        "    elif(dfe['Total(48)'][i]>=50) :\n",
        "      c=c+1\n",
        "    elif(dfe['Total(48)'][i]>=40) :\n",
        "      d=d+1\n",
        "    else :\n",
        "      f=f+1\n",
        "\n",
        "print(\"O = \",o)\n",
        "print(\"E = \",e)\n",
        "print(\"A = \",a)\n",
        "print(\"B = \",b)\n",
        "print(\"C = \",c)\n",
        "print(\"D = \",d)\n",
        "print(\"F = \",f)\n",
        "print(\"No of not Evaluated Copies = \",n)"
      ],
      "metadata": {
        "colab": {
          "base_uri": "https://localhost:8080/"
        },
        "id": "vsRCUvgTL3-E",
        "outputId": "87e179b0-b157-4b66-b3fd-74d7367c2e36"
      },
      "execution_count": 8,
      "outputs": [
        {
          "output_type": "stream",
          "name": "stdout",
          "text": [
            "O =  1\n",
            "E =  4\n",
            "A =  11\n",
            "B =  79\n",
            "C =  83\n",
            "D =  43\n",
            "F =  21\n",
            "No of not Evaluated Copies =  4\n"
          ]
        },
        {
          "output_type": "stream",
          "name": "stderr",
          "text": [
            "/usr/local/lib/python3.7/dist-packages/ipykernel_launcher.py:14: SettingWithCopyWarning: \n",
            "A value is trying to be set on a copy of a slice from a DataFrame\n",
            "\n",
            "See the caveats in the documentation: https://pandas.pydata.org/pandas-docs/stable/user_guide/indexing.html#returning-a-view-versus-a-copy\n",
            "  \n"
          ]
        }
      ]
    },
    {
      "cell_type": "code",
      "source": [
        "dfe = pd.read_excel(\"data2.xlsx\")\n",
        "count=0\n",
        "\n",
        "for i in dfe.index:\n",
        "    sum=0\n",
        "    if((dfe['Q. 1 /12.00'][i]!=\"-\") and (dfe['Q. 2 /12.00'][i]!=\"-\") and (dfe['Q. 3 /12.00'][i]!=\"-\") and (dfe['Q. 4 /12.00'][i]!=\"-\")) :\n",
        "      count+=1;\n",
        "      sum+=float(dfe['Q. 1 /12.00'][i])+float(dfe['Q. 2 /12.00'][i])+float(dfe['Q. 3 /12.00'][i])+float(dfe['Q. 4 /12.00'][i])\n",
        "      sum-=min(float(dfe['Q. 1 /12.00'][i]),float(dfe['Q. 2 /12.00'][i]),float(dfe['Q. 3 /12.00'][i]),float(dfe['Q. 4 /12.00'][i]))\n",
        "      print(\"Best of three of \",i,\" is \",sum)\n",
        "\n",
        "    else :\n",
        "      if(dfe['Q. 1 /12.00'][i]!=\"-\") :\n",
        "        sum+=float(dfe['Q. 1 /12.00'][i])\n",
        "      if(dfe['Q. 2 /12.00'][i]!=\"-\") :\n",
        "        sum+=float(dfe['Q. 2 /12.00'][i])\n",
        "      if(dfe['Q. 3 /12.00'][i]!=\"-\") :\n",
        "        sum+=float(dfe['Q. 3 /12.00'][i])\n",
        "      if(dfe['Q. 4 /12.00'][i]!=\"-\") :\n",
        "        sum+=float(dfe['Q. 4 /12.00'][i])\n",
        "      print(\"Best of three of \",i,\" is \",sum)\n",
        "\n",
        "print(\"No. of candidates attempted 4 answer = \",count)"
      ],
      "metadata": {
        "colab": {
          "base_uri": "https://localhost:8080/"
        },
        "id": "6LhykGcshw8B",
        "outputId": "8d7e4a9d-c538-437f-ed0f-a1a5c80dab90"
      },
      "execution_count": 27,
      "outputs": [
        {
          "output_type": "stream",
          "name": "stdout",
          "text": [
            "Best of three of  0  is  0.0\n",
            "Best of three of  1  is  0\n",
            "Best of three of  2  is  0\n",
            "Best of three of  3  is  0\n",
            "Best of three of  4  is  8.0\n",
            "Best of three of  5  is  10.0\n",
            "Best of three of  6  is  11.0\n",
            "Best of three of  7  is  12.0\n",
            "Best of three of  8  is  13.5\n",
            "Best of three of  9  is  14.0\n",
            "Best of three of  10  is  15.0\n",
            "Best of three of  11  is  17.0\n",
            "Best of three of  12  is  17.0\n",
            "Best of three of  13  is  17.0\n",
            "Best of three of  14  is  17.0\n",
            "Best of three of  15  is  18.0\n",
            "Best of three of  16  is  18.0\n",
            "Best of three of  17  is  18.0\n",
            "Best of three of  18  is  18.0\n",
            "Best of three of  19  is  18.0\n",
            "Best of three of  20  is  19.0\n",
            "Best of three of  21  is  19.0\n",
            "Best of three of  22  is  19.0\n",
            "Best of three of  23  is  19.0\n",
            "Best of three of  24  is  19.0\n",
            "Best of three of  25  is  20.0\n",
            "Best of three of  26  is  20.0\n",
            "Best of three of  27  is  20.0\n",
            "Best of three of  28  is  20.0\n",
            "Best of three of  29  is  20.0\n",
            "Best of three of  30  is  20.0\n",
            "Best of three of  31  is  21.0\n",
            "Best of three of  32  is  21.0\n",
            "Best of three of  33  is  21.0\n",
            "Best of three of  34  is  21.0\n",
            "Best of three of  35  is  21.0\n",
            "Best of three of  36  is  21.0\n",
            "Best of three of  37  is  21.0\n",
            "Best of three of  38  is  21.0\n",
            "Best of three of  39  is  17.0\n",
            "Best of three of  40  is  21.0\n",
            "Best of three of  41  is  21.0\n",
            "Best of three of  42  is  21.0\n",
            "Best of three of  43  is  22.0\n",
            "Best of three of  44  is  22.0\n",
            "Best of three of  45  is  22.0\n",
            "Best of three of  46  is  22.0\n",
            "Best of three of  47  is  22.0\n",
            "Best of three of  48  is  22.0\n",
            "Best of three of  49  is  22.0\n",
            "Best of three of  50  is  22.0\n",
            "Best of three of  51  is  22.0\n",
            "Best of three of  52  is  23.0\n",
            "Best of three of  53  is  23.0\n",
            "Best of three of  54  is  23.0\n",
            "Best of three of  55  is  23.0\n",
            "Best of three of  56  is  23.0\n",
            "Best of three of  57  is  23.0\n",
            "Best of three of  58  is  23.0\n",
            "Best of three of  59  is  23.0\n",
            "Best of three of  60  is  23.0\n",
            "Best of three of  61  is  23.0\n",
            "Best of three of  62  is  23.0\n",
            "Best of three of  63  is  23.0\n",
            "Best of three of  64  is  23.0\n",
            "Best of three of  65  is  23.0\n",
            "Best of three of  66  is  23.5\n",
            "Best of three of  67  is  23.5\n",
            "Best of three of  68  is  21.0\n",
            "Best of three of  69  is  24.0\n",
            "Best of three of  70  is  24.0\n",
            "Best of three of  71  is  24.0\n",
            "Best of three of  72  is  24.0\n",
            "Best of three of  73  is  24.0\n",
            "Best of three of  74  is  24.0\n",
            "Best of three of  75  is  24.0\n",
            "Best of three of  76  is  24.0\n",
            "Best of three of  77  is  24.0\n",
            "Best of three of  78  is  24.0\n",
            "Best of three of  79  is  24.0\n",
            "Best of three of  80  is  24.0\n",
            "Best of three of  81  is  25.0\n",
            "Best of three of  82  is  25.0\n",
            "Best of three of  83  is  25.0\n",
            "Best of three of  84  is  25.0\n",
            "Best of three of  85  is  25.0\n",
            "Best of three of  86  is  25.0\n",
            "Best of three of  87  is  25.0\n",
            "Best of three of  88  is  25.0\n",
            "Best of three of  89  is  25.0\n",
            "Best of three of  90  is  25.0\n",
            "Best of three of  91  is  25.0\n",
            "Best of three of  92  is  25.0\n",
            "Best of three of  93  is  25.0\n",
            "Best of three of  94  is  25.0\n",
            "Best of three of  95  is  25.0\n",
            "Best of three of  96  is  26.0\n",
            "Best of three of  97  is  26.0\n",
            "Best of three of  98  is  26.0\n",
            "Best of three of  99  is  24.0\n",
            "Best of three of  100  is  26.0\n",
            "Best of three of  101  is  26.0\n",
            "Best of three of  102  is  26.0\n",
            "Best of three of  103  is  22.0\n",
            "Best of three of  104  is  26.0\n",
            "Best of three of  105  is  26.0\n",
            "Best of three of  106  is  26.0\n",
            "Best of three of  107  is  26.0\n",
            "Best of three of  108  is  26.0\n",
            "Best of three of  109  is  26.0\n",
            "Best of three of  110  is  26.0\n",
            "Best of three of  111  is  26.0\n",
            "Best of three of  112  is  26.0\n",
            "Best of three of  113  is  26.0\n",
            "Best of three of  114  is  26.0\n",
            "Best of three of  115  is  26.0\n",
            "Best of three of  116  is  26.0\n",
            "Best of three of  117  is  26.0\n",
            "Best of three of  118  is  26.0\n",
            "Best of three of  119  is  26.0\n",
            "Best of three of  120  is  26.0\n",
            "Best of three of  121  is  27.0\n",
            "Best of three of  122  is  27.0\n",
            "Best of three of  123  is  27.0\n",
            "Best of three of  124  is  27.0\n",
            "Best of three of  125  is  27.0\n",
            "Best of three of  126  is  27.0\n",
            "Best of three of  127  is  27.0\n",
            "Best of three of  128  is  27.0\n",
            "Best of three of  129  is  27.0\n",
            "Best of three of  130  is  27.0\n",
            "Best of three of  131  is  27.0\n",
            "Best of three of  132  is  27.0\n",
            "Best of three of  133  is  27.0\n",
            "Best of three of  134  is  27.0\n",
            "Best of three of  135  is  27.0\n",
            "Best of three of  136  is  28.0\n",
            "Best of three of  137  is  28.0\n",
            "Best of three of  138  is  28.0\n",
            "Best of three of  139  is  28.0\n",
            "Best of three of  140  is  28.0\n",
            "Best of three of  141  is  28.0\n",
            "Best of three of  142  is  28.0\n",
            "Best of three of  143  is  28.0\n",
            "Best of three of  144  is  28.0\n",
            "Best of three of  145  is  28.0\n",
            "Best of three of  146  is  28.0\n",
            "Best of three of  147  is  24.0\n",
            "Best of three of  148  is  28.0\n",
            "Best of three of  149  is  28.0\n",
            "Best of three of  150  is  28.0\n",
            "Best of three of  151  is  29.0\n",
            "Best of three of  152  is  29.0\n",
            "Best of three of  153  is  29.0\n",
            "Best of three of  154  is  29.0\n",
            "Best of three of  155  is  29.0\n",
            "Best of three of  156  is  29.0\n",
            "Best of three of  157  is  29.0\n",
            "Best of three of  158  is  29.0\n",
            "Best of three of  159  is  29.0\n",
            "Best of three of  160  is  29.0\n",
            "Best of three of  161  is  29.0\n",
            "Best of three of  162  is  29.0\n",
            "Best of three of  163  is  29.0\n",
            "Best of three of  164  is  29.0\n",
            "Best of three of  165  is  25.0\n",
            "Best of three of  166  is  29.0\n",
            "Best of three of  167  is  29.0\n",
            "Best of three of  168  is  29.0\n",
            "Best of three of  169  is  24.0\n",
            "Best of three of  170  is  30.0\n",
            "Best of three of  171  is  30.0\n",
            "Best of three of  172  is  30.0\n",
            "Best of three of  173  is  30.0\n",
            "Best of three of  174  is  30.0\n",
            "Best of three of  175  is  30.0\n",
            "Best of three of  176  is  30.0\n",
            "Best of three of  177  is  30.0\n",
            "Best of three of  178  is  24.0\n",
            "Best of three of  179  is  30.0\n",
            "Best of three of  180  is  30.0\n",
            "Best of three of  181  is  30.0\n",
            "Best of three of  182  is  30.0\n",
            "Best of three of  183  is  26.0\n",
            "Best of three of  184  is  30.0\n",
            "Best of three of  185  is  30.0\n",
            "Best of three of  186  is  27.0\n",
            "Best of three of  187  is  30.0\n",
            "Best of three of  188  is  30.0\n",
            "Best of three of  189  is  30.0\n",
            "Best of three of  190  is  30.0\n",
            "Best of three of  191  is  30.0\n",
            "Best of three of  192  is  30.0\n",
            "Best of three of  193  is  30.0\n",
            "Best of three of  194  is  31.0\n",
            "Best of three of  195  is  31.0\n",
            "Best of three of  196  is  31.0\n",
            "Best of three of  197  is  31.0\n",
            "Best of three of  198  is  31.0\n",
            "Best of three of  199  is  31.0\n",
            "Best of three of  200  is  31.0\n",
            "Best of three of  201  is  31.0\n",
            "Best of three of  202  is  31.0\n",
            "Best of three of  203  is  31.0\n",
            "Best of three of  204  is  31.0\n",
            "Best of three of  205  is  31.0\n",
            "Best of three of  206  is  31.0\n",
            "Best of three of  207  is  31.0\n",
            "Best of three of  208  is  31.0\n",
            "Best of three of  209  is  31.0\n",
            "Best of three of  210  is  32.0\n",
            "Best of three of  211  is  27.0\n",
            "Best of three of  212  is  32.0\n",
            "Best of three of  213  is  32.0\n",
            "Best of three of  214  is  29.0\n",
            "Best of three of  215  is  32.0\n",
            "Best of three of  216  is  32.0\n",
            "Best of three of  217  is  32.0\n",
            "Best of three of  218  is  32.0\n",
            "Best of three of  219  is  32.0\n",
            "Best of three of  220  is  32.0\n",
            "Best of three of  221  is  32.0\n",
            "Best of three of  222  is  33.0\n",
            "Best of three of  223  is  27.0\n",
            "Best of three of  224  is  33.0\n",
            "Best of three of  225  is  33.0\n",
            "Best of three of  226  is  33.0\n",
            "Best of three of  227  is  33.0\n",
            "Best of three of  228  is  33.0\n",
            "Best of three of  229  is  33.0\n",
            "Best of three of  230  is  34.0\n",
            "Best of three of  231  is  29.0\n",
            "Best of three of  232  is  28.0\n",
            "Best of three of  233  is  28.0\n",
            "Best of three of  234  is  29.0\n",
            "Best of three of  235  is  27.0\n",
            "Best of three of  236  is  35.0\n",
            "Best of three of  237  is  28.0\n",
            "Best of three of  238  is  29.0\n",
            "Best of three of  239  is  30.0\n",
            "Best of three of  240  is  30.0\n",
            "Best of three of  241  is  30.0\n",
            "Best of three of  242  is  31.0\n",
            "Best of three of  243  is  33.0\n",
            "Best of three of  244  is  33.0\n",
            "Best of three of  245  is  35.0\n",
            "No. of candidates attempted 4 answer =  107\n"
          ]
        }
      ]
    },
    {
      "cell_type": "code",
      "source": [
        "def func_sum(n):\n",
        " return lambda x : x * n\n",
        "\n",
        "result = func_sum(2)\n",
        "print(\"2 times the number of 7 =\", result(7))\n",
        "result = func_sum(3)\n",
        "print(\"3 times the number of 7 =\", result(7))\n",
        "result = func_sum(4)\n",
        "print(\"4  times the number of 7 =\", result(7))\n",
        "result = func_sum(5)\n",
        "print(\"5 times the number 7 =\", result(7))"
      ],
      "metadata": {
        "colab": {
          "base_uri": "https://localhost:8080/"
        },
        "id": "1rS9AQI4dgd7",
        "outputId": "24b1541d-e8e4-4046-d6c5-7f4f6f9171c4"
      },
      "execution_count": 13,
      "outputs": [
        {
          "output_type": "stream",
          "name": "stdout",
          "text": [
            "2 times the number of 7 = 14\n",
            "3 times the number of 7 = 21\n",
            "4  times the number of 7 = 28\n",
            "5 times the number 7 = 35\n"
          ]
        }
      ]
    },
    {
      "cell_type": "code",
      "source": [
        "def test(n):\n",
        "    if n in range(2,10):\n",
        "        print( \" %s is in the range\"%str(n))\n",
        "    else :\n",
        "        print(\"The number is outside the given range.\")\n",
        "\n",
        "test(5)"
      ],
      "metadata": {
        "colab": {
          "base_uri": "https://localhost:8080/"
        },
        "id": "7riO7xtafQB8",
        "outputId": "122b6cf8-2e1b-480c-9aea-6f554c1934a0"
      },
      "execution_count": 14,
      "outputs": [
        {
          "output_type": "stream",
          "name": "stdout",
          "text": [
            " 5 is in the range\n"
          ]
        }
      ]
    },
    {
      "cell_type": "code",
      "source": [
        "def perfect(n):\n",
        "    sum = 0\n",
        "    for x in range(1, n):\n",
        "        if n % x == 0:\n",
        "            sum += x\n",
        "    return sum == n\n",
        "\n",
        "print(perfect(6))"
      ],
      "metadata": {
        "colab": {
          "base_uri": "https://localhost:8080/"
        },
        "id": "XtC6FcZjgRJL",
        "outputId": "2c112c7e-d725-457c-ce04-a36880105414"
      },
      "execution_count": 24,
      "outputs": [
        {
          "output_type": "stream",
          "name": "stdout",
          "text": [
            "True\n"
          ]
        }
      ]
    }
  ]
}