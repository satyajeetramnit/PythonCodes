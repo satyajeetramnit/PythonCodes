{
  "nbformat": 4,
  "nbformat_minor": 0,
  "metadata": {
    "colab": {
      "name": "T&T Lab 1.ipynb",
      "provenance": [],
      "authorship_tag": "ABX9TyOFK1ZibusmUMcr4XTOzd3L",
      "include_colab_link": true
    },
    "kernelspec": {
      "name": "python3",
      "display_name": "Python 3"
    },
    "language_info": {
      "name": "python"
    }
  },
  "cells": [
    {
      "cell_type": "markdown",
      "metadata": {
        "id": "view-in-github",
        "colab_type": "text"
      },
      "source": [
        "<a href=\"https://colab.research.google.com/github/satyajeetramnit/PythonCodes/blob/main/T%26T_Lab_1.ipynb\" target=\"_parent\"><img src=\"https://colab.research.google.com/assets/colab-badge.svg\" alt=\"Open In Colab\"/></a>"
      ]
    },
    {
      "cell_type": "code",
      "execution_count": 1,
      "metadata": {
        "colab": {
          "base_uri": "https://localhost:8080/"
        },
        "id": "ax7a90j5q82-",
        "outputId": "ca5d20ce-da75-497d-e863-fd4de52ea420"
      },
      "outputs": [
        {
          "output_type": "stream",
          "name": "stdout",
          "text": [
            "Enter Name: Satyajeet\n",
            "Enter Address: Purnea\n",
            "Enter DOB: 27.03.2001\n",
            "Enter Aadhar No: 12345678\n",
            "Enter Phone No.: 9876543210\n",
            "Enter Pan No.: ABCD123\n",
            " \n",
            "Name: Satyajeet\n",
            "Address: Purnea\n",
            "DOB: 27.03.2001\n",
            "Aadhar No: 12345678\n",
            "Phone No: 9876543210\n",
            "Pan No: \n"
          ]
        }
      ],
      "source": [
        "name=input(\"Enter Name: \")\n",
        "address=input(\"Enter Address: \")\n",
        "dob=input(\"Enter DOB: \")\n",
        "aadhar=input(\"Enter Aadhar No: \")\n",
        "phone=input(\"Enter Phone No.: \")\n",
        "pan=input(\"Enter Pan No.: \")\n",
        "print(\" \")\n",
        "print(\"Name: \"+name)\n",
        "print(\"Address: \"+address)\n",
        "print(\"DOB: \"+dob)\n",
        "print(\"Aadhar No: \"+aadhar)\n",
        "print(\"Phone No: \"+phone)\n",
        "print(\"Pan No: \")"
      ]
    },
    {
      "cell_type": "code",
      "source": [
        "bill=(input(\"Enter bill value: \"))\n",
        "intBill=int(bill)\n",
        "if intBill>=1000: \n",
        "    discount=0.05*(intBill)\n",
        "else :\n",
        "  discount=0\n",
        "print(\"Total Bill value: \"+bill)\n",
        "print(\"Discount added to account: \"+(str)(discount))"
      ],
      "metadata": {
        "colab": {
          "base_uri": "https://localhost:8080/"
        },
        "id": "Ymbnpo11r8Pp",
        "outputId": "384ceace-3081-429e-e64c-c55d2313973b"
      },
      "execution_count": 2,
      "outputs": [
        {
          "output_type": "stream",
          "name": "stdout",
          "text": [
            "Enter bill value: 1000\n",
            "Total Bill value: 1000\n",
            "Discount added to account: 50.0\n"
          ]
        }
      ]
    },
    {
      "cell_type": "code",
      "source": [
        "def binary(n):\n",
        "   if n > 1:\n",
        "       binary(n//2)\n",
        "   print(n % 2,end = '')\n",
        "\n",
        "name = input(\"Enter Name : \")\n",
        "for i in name:\n",
        "  n = ord(i)\n",
        "  binary(n)\n",
        "  print(end=\" \");"
      ],
      "metadata": {
        "colab": {
          "base_uri": "https://localhost:8080/"
        },
        "id": "Hs6QftJ-sLE7",
        "outputId": "e932fa59-452a-4e0f-e5a1-e996832bf7b9"
      },
      "execution_count": 3,
      "outputs": [
        {
          "output_type": "stream",
          "name": "stdout",
          "text": [
            "Enter Name : Satyajeet\n",
            "1010011 1100001 1110100 1111001 1100001 1101010 1100101 1100101 1110100 "
          ]
        }
      ]
    },
    {
      "cell_type": "code",
      "source": [
        "num=int(input(\"Enter Number: \"))\n",
        "s=0\n",
        "while (num!=0):\n",
        " d=num%10\n",
        " s=s+d\n",
        " num=(num//10)\n",
        "print(\"Sum of digits is \",s)"
      ],
      "metadata": {
        "colab": {
          "base_uri": "https://localhost:8080/"
        },
        "id": "_HaELoE3sbpp",
        "outputId": "2f894cd0-2447-4727-ea7d-dd8d38a18d0b"
      },
      "execution_count": 12,
      "outputs": [
        {
          "output_type": "stream",
          "name": "stdout",
          "text": [
            "Enter Number: 69\n",
            "Sum of digits is  15\n"
          ]
        }
      ]
    },
    {
      "cell_type": "code",
      "source": [
        "num=int(input(\"Enter Number: \"))\n",
        "def factorial(num):\n",
        "  if num==0 or num==1:\n",
        "    return 1\n",
        "  else:\n",
        "    return num*factorial(num-1)\n",
        "print(\"Factorial is: \",factorial(num))\n",
        "# print(factorial(num))"
      ],
      "metadata": {
        "colab": {
          "base_uri": "https://localhost:8080/"
        },
        "id": "CjTDRJObs6BH",
        "outputId": "7ec09b86-7437-4e0e-afce-cf0c08d20f1e"
      },
      "execution_count": 11,
      "outputs": [
        {
          "output_type": "stream",
          "name": "stdout",
          "text": [
            "Enter Number: 6\n",
            "Factorial is:  720\n"
          ]
        }
      ]
    }
  ]
}