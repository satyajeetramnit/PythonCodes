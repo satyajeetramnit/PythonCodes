{
  "nbformat": 4,
  "nbformat_minor": 0,
  "metadata": {
    "colab": {
      "name": "T&T Lab 07.ipynb",
      "provenance": [],
      "authorship_tag": "ABX9TyO2Xvg39R2JKCR0GlalSuPv",
      "include_colab_link": true
    },
    "kernelspec": {
      "name": "python3",
      "display_name": "Python 3"
    },
    "language_info": {
      "name": "python"
    }
  },
  "cells": [
    {
      "cell_type": "markdown",
      "metadata": {
        "id": "view-in-github",
        "colab_type": "text"
      },
      "source": [
        "<a href=\"https://colab.research.google.com/github/satyajeetramnit/PythonCodes/blob/main/T%26T_Lab_07.ipynb\" target=\"_parent\"><img src=\"https://colab.research.google.com/assets/colab-badge.svg\" alt=\"Open In Colab\"/></a>"
      ]
    },
    {
      "cell_type": "markdown",
      "source": [
        "Q1.1 - Create a class student consists of roll, name sub1,sub2,sub3 .Using appropriate member function input the details of students information and marks in the various subject and then find the DIVISION of the student."
      ],
      "metadata": {
        "id": "G3PXdoggnI_3"
      }
    },
    {
      "cell_type": "code",
      "execution_count": null,
      "metadata": {
        "colab": {
          "base_uri": "https://localhost:8080/"
        },
        "id": "8_1WV3ShfCPY",
        "outputId": "f7df465d-97e7-4f28-d6a9-ba9f141a8cef"
      },
      "outputs": [
        {
          "output_type": "stream",
          "name": "stdout",
          "text": [
            "Enter the roll number: 1906130\n",
            "Enter the name: Satyajeet Ramnit\n",
            "Enter the marks in the first subject: 95\n",
            "Enter the marks in the second subject: 96\n",
            "Enter the marks in the third subject: 84\n",
            "First Division\n"
          ]
        }
      ],
      "source": [
        "class Student:\n",
        "  roll=1906130\n",
        "  name='Satyajeet Ramnit'\n",
        "  sub1=100\n",
        "  sub2=99\n",
        "  sub3=98\n",
        "  def getdata(self,r,n,s1,s2,s3):\n",
        "    self.roll=r\n",
        "    self.name=n\n",
        "    self.sub1=s1\n",
        "    self.sub2=s2\n",
        "    self.sub3=s3\n",
        "\n",
        "  def display(self):\n",
        "    div=(self.sub1+self.sub2+self.sub3)/3\n",
        "    if(div >= 60):\n",
        "      print(\"First Division\")\n",
        "    elif(div>=50 and div<60):\n",
        "      print(\"Second Division\")\n",
        "    elif(div>=30 and div<50):\n",
        "      print(\"Third Division\")\n",
        "    else:\n",
        "      print(\"Fail\")\n",
        "\n",
        "r = int (input(\"Enter the roll number: \"))\n",
        "name = input(\"Enter the name: \")\n",
        "s1 = int (input(\"Enter the marks in the first subject: \"))\n",
        "s2 = int (input(\"Enter the marks in the second subject: \"))\n",
        "s3 = int (input(\"Enter the marks in the third subject: \"))\n",
        "\n",
        "stu = Student()\n",
        "stu.getdata(r, name, s1, s2, s3)\n",
        "stu.display()"
      ]
    },
    {
      "cell_type": "markdown",
      "source": [
        "Q1.2 - . Wap to show the use of different types of constructor"
      ],
      "metadata": {
        "id": "KXPjVQUBnXqE"
      }
    },
    {
      "cell_type": "code",
      "source": [
        "# A parameterized constructor is one which has a predefined value and a non parameterized constructor is one which has no value assigned to it.\n",
        "print('Satyajeet Ramnit\\n1906130\\n')\n",
        "print('Non-Parameterized constructor\\n')\n",
        "class np_constructor:\n",
        "  def __init__(self):\n",
        "    self.roll=1906130\n",
        "    self.name='Satyajeet Ramnit'\n",
        "\n",
        "  def display(self):\n",
        "    print(\"Name :\",self.name)\n",
        "    print(\"Roll :\",self.roll)\n",
        "\n",
        "obj=np_constructor()\n",
        "obj.display()\n",
        "\n",
        "print('\\nParameterized constructor\\n')\n",
        "\n",
        "class test:\n",
        "  def __init__(self,r,n):\n",
        "    self.roll=r\n",
        "    self.name=n\n",
        "\n",
        "  def display(self):\n",
        "    print(\"Name -\",self.name)\n",
        "    print(\"Roll -\",self.roll)\n",
        "\n",
        "print(\"For object 1:\")\n",
        "roll = int(input(\"Enter roll number: \"))\n",
        "name = input(\"Enter name: \")\n",
        "obj1 = test(roll, name)\n",
        "print(\"For object 2:\")\n",
        "roll = int(input(\"Enter roll number: \"))\n",
        "name = input(\"Enter name: \")\n",
        "obj2 = test(roll, name)\n",
        "\n",
        "obj1.display()\n",
        "obj2.display()"
      ],
      "metadata": {
        "colab": {
          "base_uri": "https://localhost:8080/"
        },
        "id": "gQ0W6TIsh59I",
        "outputId": "ae019b9b-b47a-4760-ba9b-73c8809881d8"
      },
      "execution_count": null,
      "outputs": [
        {
          "output_type": "stream",
          "name": "stdout",
          "text": [
            "Satyajeet Ramnit\n",
            "1906130\n",
            "\n",
            "Non-Parameterized constructor\n",
            "\n",
            "Name : Satyajeet Ramnit\n",
            "Roll : 1906130\n",
            "\n",
            "Parameterized constructor\n",
            "\n",
            "For object 1:\n",
            "Enter roll number: 130\n",
            "Enter name: Satyajeet\n",
            "For object 2:\n",
            "Enter roll number: 131\n",
            "Enter name: Satyam\n",
            "Name - Satyajeet\n",
            "Roll - 130\n",
            "Name - Satyam\n",
            "Roll - 131\n"
          ]
        }
      ]
    },
    {
      "cell_type": "markdown",
      "source": [
        "Q1.3 - WAP to display the grade sheet of the student with the following member function :\n",
        "\n",
        "i Personnel details( Name, Roll, Regd no, semester)\n",
        "\n",
        "ii. Subject details(Course number, course name, credit, marks(out of 100) )\n",
        "\n",
        "iii. Compute_function(Grade , credit index ,SGPA, CGPA )\n",
        "\n",
        "iv. display_report()"
      ],
      "metadata": {
        "id": "BbvWZQF7nZyL"
      }
    },
    {
      "cell_type": "code",
      "source": [
        "print('Satyajeet Ramnit\\n1906130\\n')\n",
        "class details:    \n",
        "    def __init__(self): \n",
        "        print(\"Details\")\n",
        "    def personalDetails(self,name, roll, regd, semester) :\n",
        "        self.name=name\n",
        "        self.roll=roll\n",
        "        self.regd=regd\n",
        "        self.semester=semester\n",
        "    def Subject_details(self,Course_number, course_name, credit, marks ):\n",
        "        self.Course_number=Course_number\n",
        "        self.course_name=course_name\n",
        "        self.credit=credit\n",
        "        self.marks= marks\n",
        "    def Compute_function(self,Grade , credit_index ,SGPA, CGPA ):\n",
        "        self.Grade=Grade\n",
        "        self.credit_index=credit_index\n",
        "        self.SGPA=SGPA \n",
        "        self.CGPA=CGPA \n",
        "    def show(self):\n",
        "        print(\"Personnel details\")\n",
        "        print(self.name,self.roll, self.regd, self.semester)\n",
        "        print(\"Subject details\")\n",
        "        print(self.Course_number, self.course_name, self.credit, self.marks)\n",
        "        print(\"Grades\")\n",
        "        print(self.Grade , self.credit_index ,self.SGPA, self.CGPA)\n",
        "\n",
        "s1 = details()  \n",
        "s1.personalDetails(\"A\",89,6789,6)\n",
        "s1.Subject_details(1023,\"DA\",4,90)\n",
        "s1.Compute_function(\"O\",678,9.5,9.0)\n",
        "s1.show()"
      ],
      "metadata": {
        "colab": {
          "base_uri": "https://localhost:8080/"
        },
        "id": "Q2Gk33SIm61q",
        "outputId": "41a09103-de36-4289-ebd3-d3f2472c9926"
      },
      "execution_count": null,
      "outputs": [
        {
          "output_type": "stream",
          "name": "stdout",
          "text": [
            "Satyajeet Ramnit\n",
            "1906130\n",
            "\n",
            "Details\n",
            "Personnel details\n",
            "A 89 6789 6\n",
            "Subject details\n",
            "1023 DA 4 90\n",
            "Grades\n",
            "O 678 9.5 9.0\n"
          ]
        }
      ]
    },
    {
      "cell_type": "code",
      "source": [
        "print('Satyajeet Ramnit\\n1906130\\n')\n",
        "class stud:\n",
        "    def __init(self):\n",
        "        self.roll=0\n",
        "        self.name=''\n",
        "        self.reg=0\n",
        "        self.sem=''\n",
        "        self.c1=[]\n",
        "        self.c2=[]\n",
        "        self.c3=[]\n",
        "        self.sgpa=0\n",
        "     \n",
        "    def personal_details(self):\n",
        "        \n",
        "        roll=int(input(\"Enter Roll-\"))\n",
        "        name=(input(\"Enter name-\"))\n",
        "        regg=int(input(\"Enter Regg no.-\"))\n",
        "        sem=(input(\"Enter semester-\"))\n",
        "        self.roll = roll\n",
        "        self.name = name\n",
        "        self.reg=regg\n",
        "        self.sem=sem\n",
        "        \n",
        "    def sub_detail(self):\n",
        "        \n",
        "            print(\"FOR C1\\n\")\n",
        "            na=input(\"enter c name:\")\n",
        "            self.c1.append(na)\n",
        "            num=int(input(\"enter c num:\"))\n",
        "            self.c1.append(num)\n",
        "            mark=int(input(\"enter c marks:\"))\n",
        "            self.c1.append(mark)\n",
        "            cred=int(input(\"enter c cred:\"))\n",
        "            self.c1.append(cred)\n",
        "            print(\"FOR C2\\n\")\n",
        "            na=input(\"enter c name:\")\n",
        "            self.c2.append(na)\n",
        "            num=int(input(\"enter c num:\"))\n",
        "            self.c2.append(num)\n",
        "            mark=int(input(\"enter c marks:\"))\n",
        "            self.c2.append(mark)\n",
        "            cred=int(input(\"enter c cred:\"))\n",
        "            self.c2.append(cred)\n",
        "            print(\"FOR C3\\n\")\n",
        "            na=input(\"enter c name:\")\n",
        "            self.c3.append(na)\n",
        "            num=int(input(\"enter c num:\"))\n",
        "            self.c3.append(num)\n",
        "            mark=int(input(\"enter c marks:\"))\n",
        "            self.c3.append(mark)\n",
        "            cred=int(input(\"enter c cred:\"))\n",
        "            self.c3.append(cred)\n",
        "     \n",
        "    def display(self):\n",
        "        \n",
        "        print()\n",
        "        print(\"PERSONNAL DETAILS:\")\n",
        "        print(\"Roll = \" + str(self.roll))\n",
        "        print(\"Name = \" + self.name)\n",
        "        print(\"Sementer = \" + self.sem)\n",
        "        print(\"Regg no= \" + str(self.reg))\n",
        "        print()\n",
        "        print(\"COURSE DETAILS:\")\n",
        "        print(\"COURSE 1: NUM--NAME--CRED--MARKS\")\n",
        "        print(str(self.c1[1]+\"--\"+self.c1[0]+\"--\"+str(self.c1[2])+\"--\"+str(self.c1[3])))\n",
        "        print(\"COURSE 2: NUM--NAME--CRED--MARKS\")\n",
        "        print(str(self.c2[1]+\"--\"+self.c2[0]+\"--\"+str(self.c2[2])+\"--\"+str(self.c2[3])))        \n",
        "        print(\"COURSE 3: NUM\\tNAME\\tCRED\\tMARKS\")\n",
        "        print(str(self.c3[1]+\"--\"+self.c3[0]+\"--\"+str(self.c3[2])+\"--\"+str(self.c3[3])))\n",
        "        print()\n",
        "        print(\"SGPA=\"+str(self.sgpa))\n",
        "              \n",
        "    def calculate(self):\n",
        "              total_cred=self.c1[2]+self.c2[2]+self.c3[2]\n",
        "              cum_index=self.c1[2]*self.c1[3]+self.c2[2]*self.c2[3]+self.c3[2]*self.c3[3]\n",
        "              self.sgpa=cum_index/total_cred\n",
        "                      \n",
        "obj = stud()\n",
        "obj.personal_details()\n",
        "obj.sub_detail()\n",
        "obj.calculate()\n",
        "obj.display()"
      ],
      "metadata": {
        "colab": {
          "base_uri": "https://localhost:8080/",
          "height": 651
        },
        "id": "K3S-tFJe0PtC",
        "outputId": "370669d2-74e3-45b6-e51b-863084e19c80"
      },
      "execution_count": 26,
      "outputs": [
        {
          "metadata": {
            "tags": null
          },
          "name": "stdout",
          "output_type": "stream",
          "text": [
            "Satyajeet Ramnit\n",
            "1906130\n",
            "\n",
            "FOR C1\n",
            "\n"
          ]
        },
        {
          "output_type": "error",
          "ename": "KeyboardInterrupt",
          "evalue": "ignored",
          "traceback": [
            "\u001b[0;31m---------------------------------------------------------------------------\u001b[0m",
            "\u001b[0;31mKeyboardInterrupt\u001b[0m                         Traceback (most recent call last)",
            "\u001b[0;32m/usr/local/lib/python3.7/dist-packages/ipykernel/kernelbase.py\u001b[0m in \u001b[0;36m_input_request\u001b[0;34m(self, prompt, ident, parent, password)\u001b[0m\n\u001b[1;32m    728\u001b[0m             \u001b[0;32mtry\u001b[0m\u001b[0;34m:\u001b[0m\u001b[0;34m\u001b[0m\u001b[0;34m\u001b[0m\u001b[0m\n\u001b[0;32m--> 729\u001b[0;31m                 \u001b[0mident\u001b[0m\u001b[0;34m,\u001b[0m \u001b[0mreply\u001b[0m \u001b[0;34m=\u001b[0m \u001b[0mself\u001b[0m\u001b[0;34m.\u001b[0m\u001b[0msession\u001b[0m\u001b[0;34m.\u001b[0m\u001b[0mrecv\u001b[0m\u001b[0;34m(\u001b[0m\u001b[0mself\u001b[0m\u001b[0;34m.\u001b[0m\u001b[0mstdin_socket\u001b[0m\u001b[0;34m,\u001b[0m \u001b[0;36m0\u001b[0m\u001b[0;34m)\u001b[0m\u001b[0;34m\u001b[0m\u001b[0;34m\u001b[0m\u001b[0m\n\u001b[0m\u001b[1;32m    730\u001b[0m             \u001b[0;32mexcept\u001b[0m \u001b[0mException\u001b[0m\u001b[0;34m:\u001b[0m\u001b[0;34m\u001b[0m\u001b[0;34m\u001b[0m\u001b[0m\n",
            "\u001b[0;32m/usr/local/lib/python3.7/dist-packages/jupyter_client/session.py\u001b[0m in \u001b[0;36mrecv\u001b[0;34m(self, socket, mode, content, copy)\u001b[0m\n\u001b[1;32m    802\u001b[0m         \u001b[0;32mtry\u001b[0m\u001b[0;34m:\u001b[0m\u001b[0;34m\u001b[0m\u001b[0;34m\u001b[0m\u001b[0m\n\u001b[0;32m--> 803\u001b[0;31m             \u001b[0mmsg_list\u001b[0m \u001b[0;34m=\u001b[0m \u001b[0msocket\u001b[0m\u001b[0;34m.\u001b[0m\u001b[0mrecv_multipart\u001b[0m\u001b[0;34m(\u001b[0m\u001b[0mmode\u001b[0m\u001b[0;34m,\u001b[0m \u001b[0mcopy\u001b[0m\u001b[0;34m=\u001b[0m\u001b[0mcopy\u001b[0m\u001b[0;34m)\u001b[0m\u001b[0;34m\u001b[0m\u001b[0;34m\u001b[0m\u001b[0m\n\u001b[0m\u001b[1;32m    804\u001b[0m         \u001b[0;32mexcept\u001b[0m \u001b[0mzmq\u001b[0m\u001b[0;34m.\u001b[0m\u001b[0mZMQError\u001b[0m \u001b[0;32mas\u001b[0m \u001b[0me\u001b[0m\u001b[0;34m:\u001b[0m\u001b[0;34m\u001b[0m\u001b[0;34m\u001b[0m\u001b[0m\n",
            "\u001b[0;32m/usr/local/lib/python3.7/dist-packages/zmq/sugar/socket.py\u001b[0m in \u001b[0;36mrecv_multipart\u001b[0;34m(self, flags, copy, track)\u001b[0m\n\u001b[1;32m    624\u001b[0m         \"\"\"\n\u001b[0;32m--> 625\u001b[0;31m         \u001b[0mparts\u001b[0m \u001b[0;34m=\u001b[0m \u001b[0;34m[\u001b[0m\u001b[0mself\u001b[0m\u001b[0;34m.\u001b[0m\u001b[0mrecv\u001b[0m\u001b[0;34m(\u001b[0m\u001b[0mflags\u001b[0m\u001b[0;34m,\u001b[0m \u001b[0mcopy\u001b[0m\u001b[0;34m=\u001b[0m\u001b[0mcopy\u001b[0m\u001b[0;34m,\u001b[0m \u001b[0mtrack\u001b[0m\u001b[0;34m=\u001b[0m\u001b[0mtrack\u001b[0m\u001b[0;34m)\u001b[0m\u001b[0;34m]\u001b[0m\u001b[0;34m\u001b[0m\u001b[0;34m\u001b[0m\u001b[0m\n\u001b[0m\u001b[1;32m    626\u001b[0m         \u001b[0;31m# have first part already, only loop while more to receive\u001b[0m\u001b[0;34m\u001b[0m\u001b[0;34m\u001b[0m\u001b[0;34m\u001b[0m\u001b[0m\n",
            "\u001b[0;32mzmq/backend/cython/socket.pyx\u001b[0m in \u001b[0;36mzmq.backend.cython.socket.Socket.recv\u001b[0;34m()\u001b[0m\n",
            "\u001b[0;32mzmq/backend/cython/socket.pyx\u001b[0m in \u001b[0;36mzmq.backend.cython.socket.Socket.recv\u001b[0;34m()\u001b[0m\n",
            "\u001b[0;32mzmq/backend/cython/socket.pyx\u001b[0m in \u001b[0;36mzmq.backend.cython.socket._recv_copy\u001b[0;34m()\u001b[0m\n",
            "\u001b[0;32m/usr/local/lib/python3.7/dist-packages/zmq/backend/cython/checkrc.pxd\u001b[0m in \u001b[0;36mzmq.backend.cython.checkrc._check_rc\u001b[0;34m()\u001b[0m\n",
            "\u001b[0;31mKeyboardInterrupt\u001b[0m: ",
            "\nDuring handling of the above exception, another exception occurred:\n",
            "\u001b[0;31mKeyboardInterrupt\u001b[0m                         Traceback (most recent call last)",
            "\u001b[0;32m<ipython-input-26-410f74c4dcb7>\u001b[0m in \u001b[0;36m<module>\u001b[0;34m()\u001b[0m\n\u001b[1;32m     78\u001b[0m \u001b[0mobj\u001b[0m \u001b[0;34m=\u001b[0m \u001b[0mstud\u001b[0m\u001b[0;34m(\u001b[0m\u001b[0;34m)\u001b[0m\u001b[0;34m\u001b[0m\u001b[0;34m\u001b[0m\u001b[0m\n\u001b[1;32m     79\u001b[0m \u001b[0mobj\u001b[0m\u001b[0;34m.\u001b[0m\u001b[0mpersonal_details\u001b[0m\u001b[0;34m(\u001b[0m\u001b[0;34m)\u001b[0m\u001b[0;34m\u001b[0m\u001b[0;34m\u001b[0m\u001b[0m\n\u001b[0;32m---> 80\u001b[0;31m \u001b[0mobj\u001b[0m\u001b[0;34m.\u001b[0m\u001b[0msub_detail\u001b[0m\u001b[0;34m(\u001b[0m\u001b[0;34m)\u001b[0m\u001b[0;34m\u001b[0m\u001b[0;34m\u001b[0m\u001b[0m\n\u001b[0m\u001b[1;32m     81\u001b[0m \u001b[0mobj\u001b[0m\u001b[0;34m.\u001b[0m\u001b[0mcalculate\u001b[0m\u001b[0;34m(\u001b[0m\u001b[0;34m)\u001b[0m\u001b[0;34m\u001b[0m\u001b[0;34m\u001b[0m\u001b[0m\n\u001b[1;32m     82\u001b[0m \u001b[0mobj\u001b[0m\u001b[0;34m.\u001b[0m\u001b[0mdisplay\u001b[0m\u001b[0;34m(\u001b[0m\u001b[0;34m)\u001b[0m\u001b[0;34m\u001b[0m\u001b[0;34m\u001b[0m\u001b[0m\n",
            "\u001b[0;32m<ipython-input-26-410f74c4dcb7>\u001b[0m in \u001b[0;36msub_detail\u001b[0;34m(self)\u001b[0m\n\u001b[1;32m     25\u001b[0m \u001b[0;34m\u001b[0m\u001b[0m\n\u001b[1;32m     26\u001b[0m             \u001b[0mprint\u001b[0m\u001b[0;34m(\u001b[0m\u001b[0;34m\"FOR C1\\n\"\u001b[0m\u001b[0;34m)\u001b[0m\u001b[0;34m\u001b[0m\u001b[0;34m\u001b[0m\u001b[0m\n\u001b[0;32m---> 27\u001b[0;31m             \u001b[0mna\u001b[0m\u001b[0;34m=\u001b[0m\u001b[0minput\u001b[0m\u001b[0;34m(\u001b[0m\u001b[0;34m\"enter c name:\"\u001b[0m\u001b[0;34m)\u001b[0m\u001b[0;34m\u001b[0m\u001b[0;34m\u001b[0m\u001b[0m\n\u001b[0m\u001b[1;32m     28\u001b[0m             \u001b[0mself\u001b[0m\u001b[0;34m.\u001b[0m\u001b[0mc1\u001b[0m\u001b[0;34m.\u001b[0m\u001b[0mappend\u001b[0m\u001b[0;34m(\u001b[0m\u001b[0mna\u001b[0m\u001b[0;34m)\u001b[0m\u001b[0;34m\u001b[0m\u001b[0;34m\u001b[0m\u001b[0m\n\u001b[1;32m     29\u001b[0m             \u001b[0mnum\u001b[0m\u001b[0;34m=\u001b[0m\u001b[0mint\u001b[0m\u001b[0;34m(\u001b[0m\u001b[0minput\u001b[0m\u001b[0;34m(\u001b[0m\u001b[0;34m\"enter c num:\"\u001b[0m\u001b[0;34m)\u001b[0m\u001b[0;34m)\u001b[0m\u001b[0;34m\u001b[0m\u001b[0;34m\u001b[0m\u001b[0m\n",
            "\u001b[0;32m/usr/local/lib/python3.7/dist-packages/ipykernel/kernelbase.py\u001b[0m in \u001b[0;36mraw_input\u001b[0;34m(self, prompt)\u001b[0m\n\u001b[1;32m    702\u001b[0m             \u001b[0mself\u001b[0m\u001b[0;34m.\u001b[0m\u001b[0m_parent_ident\u001b[0m\u001b[0;34m,\u001b[0m\u001b[0;34m\u001b[0m\u001b[0;34m\u001b[0m\u001b[0m\n\u001b[1;32m    703\u001b[0m             \u001b[0mself\u001b[0m\u001b[0;34m.\u001b[0m\u001b[0m_parent_header\u001b[0m\u001b[0;34m,\u001b[0m\u001b[0;34m\u001b[0m\u001b[0;34m\u001b[0m\u001b[0m\n\u001b[0;32m--> 704\u001b[0;31m             \u001b[0mpassword\u001b[0m\u001b[0;34m=\u001b[0m\u001b[0;32mFalse\u001b[0m\u001b[0;34m,\u001b[0m\u001b[0;34m\u001b[0m\u001b[0;34m\u001b[0m\u001b[0m\n\u001b[0m\u001b[1;32m    705\u001b[0m         )\n\u001b[1;32m    706\u001b[0m \u001b[0;34m\u001b[0m\u001b[0m\n",
            "\u001b[0;32m/usr/local/lib/python3.7/dist-packages/ipykernel/kernelbase.py\u001b[0m in \u001b[0;36m_input_request\u001b[0;34m(self, prompt, ident, parent, password)\u001b[0m\n\u001b[1;32m    732\u001b[0m             \u001b[0;32mexcept\u001b[0m \u001b[0mKeyboardInterrupt\u001b[0m\u001b[0;34m:\u001b[0m\u001b[0;34m\u001b[0m\u001b[0;34m\u001b[0m\u001b[0m\n\u001b[1;32m    733\u001b[0m                 \u001b[0;31m# re-raise KeyboardInterrupt, to truncate traceback\u001b[0m\u001b[0;34m\u001b[0m\u001b[0;34m\u001b[0m\u001b[0;34m\u001b[0m\u001b[0m\n\u001b[0;32m--> 734\u001b[0;31m                 \u001b[0;32mraise\u001b[0m \u001b[0mKeyboardInterrupt\u001b[0m\u001b[0;34m\u001b[0m\u001b[0;34m\u001b[0m\u001b[0m\n\u001b[0m\u001b[1;32m    735\u001b[0m             \u001b[0;32melse\u001b[0m\u001b[0;34m:\u001b[0m\u001b[0;34m\u001b[0m\u001b[0;34m\u001b[0m\u001b[0m\n\u001b[1;32m    736\u001b[0m                 \u001b[0;32mbreak\u001b[0m\u001b[0;34m\u001b[0m\u001b[0;34m\u001b[0m\u001b[0m\n",
            "\u001b[0;31mKeyboardInterrupt\u001b[0m: "
          ]
        }
      ]
    },
    {
      "cell_type": "markdown",
      "source": [
        "Q2.1 - Write a Rectangle class in Python language, allowing you to build a rectangle with length and width \n",
        "attributes."
      ],
      "metadata": {
        "id": "5zrz2Knbsouc"
      }
    },
    {
      "cell_type": "code",
      "source": [
        "print('Satyajeet Ramnit\\n1906130\\n')\n",
        "class Rectangle:\n",
        "  def __init__(self, length, width):\n",
        "    self.length = length\n",
        "    self.width = width\n",
        "  \n",
        "  def compute_area(self):\n",
        "    return self.length * self.width\n",
        "  \n",
        "  def compute_perimeter(self):\n",
        "    return 2 * (self.length+self.width)\n",
        "\n",
        "  def display(self):\n",
        "    print(\"length:\",self.length)\n",
        "    print(\"width:\",self.width)\n",
        "    print(\"perimeter:\",2 * (self.length+self.width))\n",
        "    print(\"Area\",self.length * self.width)\n",
        "\n",
        "l= float(input('Enter the Length: '))\n",
        "w= float(input('Enter the Width: '))\n",
        "    \n",
        "object1 = Rectangle(l,w)\n",
        "area = object1.compute_area()\n",
        "print(\"Area of Rectangle object = %.2f\" %area)"
      ],
      "metadata": {
        "colab": {
          "base_uri": "https://localhost:8080/"
        },
        "id": "W_GrAa2Urzv1",
        "outputId": "dafc477d-38c0-47ca-f151-d51249e19e97"
      },
      "execution_count": null,
      "outputs": [
        {
          "output_type": "stream",
          "name": "stdout",
          "text": [
            "Satyajeet Ramnit\n",
            "1906130\n",
            "\n",
            "Enter the Length: 6\n",
            "Enter the Width: 9\n",
            "Area of Rectangle object = 54.00\n"
          ]
        }
      ]
    },
    {
      "cell_type": "markdown",
      "source": [
        "Q2.2-: Create a Perimeter() method to calculate the perimeter of the rectangle and a Area() method to \n",
        "calculate the area of the rectangle."
      ],
      "metadata": {
        "id": "8kkpuf81s029"
      }
    },
    {
      "cell_type": "code",
      "source": [
        "print('Satyajeet Ramnit\\n1906130\\n')\n",
        "perimeter = object1.compute_perimeter()\n",
        "print(\"Perimeter of Rectangle object= %.2f\" %perimeter)"
      ],
      "metadata": {
        "colab": {
          "base_uri": "https://localhost:8080/"
        },
        "id": "2doTBwbvr8qC",
        "outputId": "c191e917-53bf-41c5-fb79-16c1842a1942"
      },
      "execution_count": null,
      "outputs": [
        {
          "output_type": "stream",
          "name": "stdout",
          "text": [
            "Satyajeet Ramnit\n",
            "1906130\n",
            "\n",
            "Perimeter of Rectangle object= 30.00\n"
          ]
        }
      ]
    },
    {
      "cell_type": "markdown",
      "source": [
        "Q2.3 - Create a method display() that display the length, width, perimeter and area of an object created \n",
        "using an instantiation on rectangle class."
      ],
      "metadata": {
        "id": "bnh_rDrRtPd7"
      }
    },
    {
      "cell_type": "code",
      "source": [
        "print('Satyajeet Ramnit\\n1906130\\n')\n",
        "object1.display()"
      ],
      "metadata": {
        "colab": {
          "base_uri": "https://localhost:8080/"
        },
        "id": "g07jMe-VsngJ",
        "outputId": "e9cf96eb-2f65-4e5e-ef61-a15030345e48"
      },
      "execution_count": null,
      "outputs": [
        {
          "output_type": "stream",
          "name": "stdout",
          "text": [
            "Satyajeet Ramnit\n",
            "1906130\n",
            "\n",
            "length: 6.0\n",
            "width: 9.0\n",
            "perimeter: 30.0\n",
            "Area 54.0\n"
          ]
        }
      ]
    },
    {
      "cell_type": "markdown",
      "source": [
        "Q2.5 - Define a Book class with the following attributes: Title, Author (Full name), Price.\n",
        "Define a constructor used to initialize the attributes of the method with values entered by the user."
      ],
      "metadata": {
        "id": "zEx_PjEUui_l"
      }
    },
    {
      "cell_type": "code",
      "source": [
        "print('Satyajeet Ramnit\\n1906130\\n')\n",
        "class BOOK:\n",
        "    def __init__(self, title, author,price):\n",
        "         self.title = title\n",
        "         self.author= author\n",
        "         self.price= price\n",
        "\n",
        "    def display(self):\n",
        "        print(\"length:\",self.title)\n",
        "        print(\"width:\",self.author)\n",
        "        print(\"perimeter:\",self.price)\n",
        "        \n",
        "a= input('Please Enter the title: ')\n",
        "b= input('Please Enter the Author: ')\n",
        "l= float(input('Please Enter the price: '))\n",
        "\n",
        "object1 = BOOK(a,b,l)\n",
        "object1.display()"
      ],
      "metadata": {
        "colab": {
          "base_uri": "https://localhost:8080/"
        },
        "id": "4S1zQFZBupKX",
        "outputId": "38bce9b1-ecf8-4914-9777-c5da85b72dcd"
      },
      "execution_count": null,
      "outputs": [
        {
          "output_type": "stream",
          "name": "stdout",
          "text": [
            "Satyajeet Ramnit\n",
            "1906130\n",
            "\n",
            "Please Enter the title: Best book\n",
            "Please Enter the Author: Myself\n",
            "Please Enter the price: 1000000\n",
            "length: Best book\n",
            "width: Myself\n",
            "perimeter: 1000000.0\n"
          ]
        }
      ]
    },
    {
      "cell_type": "markdown",
      "source": [
        "Q2.6 - Create a Python class called BankAccount which represents a bank account, having as attributes: accountNumber (numeric type), name (name of the account owner as string type), balance.\n",
        "\n",
        "Create a constructor with parameters: accountNumber, name, balance.\n",
        "\n",
        "Create a Deposit() method which manages the deposit actions.\n",
        "\n",
        "Create a Withdrawal() method which manages withdrawals actions.\n",
        "\n",
        "Create an bankFees() method to apply the bank fees with a percentage of 5% of the balance account.\n",
        "\n",
        "Create a display() method to display account details.\n",
        "\n",
        "Give the complete code for the BankAccount class."
      ],
      "metadata": {
        "id": "TnZpzJ4Vw5u7"
      }
    },
    {
      "cell_type": "code",
      "source": [
        "print('Satyajeet Ramnit\\n1906130\\n')\n",
        "from tabulate import tabulate\n",
        "class Bankaccount:\n",
        "  accountnumber='nil'\n",
        "  name='nil'\n",
        "  balance=0\n",
        "\n",
        "  def getdata(self):\n",
        "    self.accountnumber=input(\"Enter 11-digit account number: \")\n",
        "    self.name=input(\"Enter the account holder name: \")\n",
        "    self.balance=int(input(\"Enter balance: \"))\n",
        "    \n",
        "  def deposit(self):\n",
        "    depositamount=int(input(\"Enter the deposited amount: \"))\n",
        "    self.balance=self.balance+depositamount\n",
        "    print(\"Deposited amount = Rs\", depositamount)\n",
        "    print(\"Account Balance = Rs\", self.balance)\n",
        "\n",
        "  def withdraw(self):\n",
        "    withdrawamount=int(input(\"Enter the with-drawn amount: \"))\n",
        "    self.balance=self.balance-withdrawamount\n",
        "    print(\"With-drawn amount = Rs\", withdrawamount)\n",
        "    print(\"Account Balance = Rs\", self.balance)\n",
        "\n",
        "  def bankfees(self):\n",
        "    bankfee=(5/100)*self.balance\n",
        "    self.balance=self.balance-bankfee\n",
        "    print(\"Bank Fees = Rs\", bankfee)\n",
        "    print(\"Account Balance = Rs\", self.balance)\n",
        "\n",
        "  def display(self):\n",
        "    details=[['Account Number',self.accountnumber],['Account holder name',self.name],['Total Amount','Rs'+str(self.balance)]]\n",
        "    print(tabulate(details, tablefmt=\"grid\"))\n",
        "\n",
        "obj=Bankaccount()\n",
        "obj.getdata()\n",
        "print(\"______________________\")\n",
        "obj.deposit()\n",
        "print(\"______________________\")\n",
        "obj.withdraw()\n",
        "print(\"______________________\")\n",
        "obj.bankfees()\n",
        "print(\"______________________\")\n",
        "print(\"Bank Account Details-\")\n",
        "obj.display()"
      ],
      "metadata": {
        "id": "1noQXb5Iw6Xc",
        "colab": {
          "base_uri": "https://localhost:8080/"
        },
        "outputId": "bf59580a-560c-48b8-da24-01cc16d328de"
      },
      "execution_count": 27,
      "outputs": [
        {
          "output_type": "stream",
          "name": "stdout",
          "text": [
            "Satyajeet Ramnit\n",
            "1906130\n",
            "\n",
            "Enter 11-digit account number: 12345678987\n",
            "Enter the account holder name: Satya\n",
            "Enter balance: 10000000\n",
            "______________________\n",
            "Enter the deposited amount: 10000\n",
            "Deposited amount = Rs 10000\n",
            "Account Balance = Rs 10010000\n",
            "______________________\n",
            "Enter the with-drawn amount: 1\n",
            "With-drawn amount = Rs 1\n",
            "Account Balance = Rs 10009999\n",
            "______________________\n",
            "Bank Fees = Rs 500499.95\n",
            "Account Balance = Rs 9509499.05\n",
            "______________________\n",
            "Bank Account Details-\n",
            "+---------------------+--------------+\n",
            "| Account Number      | 12345678987  |\n",
            "+---------------------+--------------+\n",
            "| Account holder name | Satya        |\n",
            "+---------------------+--------------+\n",
            "| Total Amount        | Rs9509499.05 |\n",
            "+---------------------+--------------+\n"
          ]
        }
      ]
    }
  ]
}