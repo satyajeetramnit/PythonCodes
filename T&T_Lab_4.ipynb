{
  "nbformat": 4,
  "nbformat_minor": 0,
  "metadata": {
    "colab": {
      "name": "T&T Lab 4.ipynb",
      "provenance": [],
      "authorship_tag": "ABX9TyOAeMPjpdoBn6IPbXKLQVGB",
      "include_colab_link": true
    },
    "kernelspec": {
      "name": "python3",
      "display_name": "Python 3"
    },
    "language_info": {
      "name": "python"
    }
  },
  "cells": [
    {
      "cell_type": "markdown",
      "metadata": {
        "id": "view-in-github",
        "colab_type": "text"
      },
      "source": [
        "<a href=\"https://colab.research.google.com/github/satyajeetramnit/PythonCodes/blob/main/T%26T_Lab_4.ipynb\" target=\"_parent\"><img src=\"https://colab.research.google.com/assets/colab-badge.svg\" alt=\"Open In Colab\"/></a>"
      ]
    },
    {
      "cell_type": "code",
      "execution_count": 11,
      "metadata": {
        "colab": {
          "base_uri": "https://localhost:8080/"
        },
        "id": "Gi1Eqv7kV0Pe",
        "outputId": "11d3e1bb-09ae-4dd1-ef0e-d92d25b99b4a"
      },
      "outputs": [
        {
          "output_type": "stream",
          "name": "stdout",
          "text": [
            "Enter val of m : 4\n",
            "Enter val of n : 4\n",
            "[[9 6 2 7]\n",
            " [3 8 8 6]\n",
            " [5 6 5 3]\n",
            " [4 4 1 4]]\n"
          ]
        }
      ],
      "source": [
        "import numpy as np\n",
        "m=int(input(\"Enter val of m : \"))\n",
        "n=int(input(\"Enter val of n : \"))\n",
        "mat1=np.random.randint(1,10,(m,n))\n",
        "print(mat1)"
      ]
    },
    {
      "cell_type": "code",
      "source": [
        "new_mat1 = np.where(mat1 <= 5, 0, mat1)\n",
        "print (new_mat1)"
      ],
      "metadata": {
        "colab": {
          "base_uri": "https://localhost:8080/"
        },
        "id": "h7ExihDAeWWo",
        "outputId": "b06d2e7d-d084-49b8-da09-dc3b2728ff55"
      },
      "execution_count": 13,
      "outputs": [
        {
          "output_type": "stream",
          "name": "stdout",
          "text": [
            "[[9 6 0 7]\n",
            " [0 8 8 6]\n",
            " [0 6 0 0]\n",
            " [0 0 0 0]]\n"
          ]
        }
      ]
    },
    {
      "cell_type": "code",
      "source": [
        "zero=new_mat1[np.where(new_mat1 == 0)].size\n",
        "non_zero=new_mat1[np.where(new_mat1 != 0)].size\n",
        "print(f\"Number of Zeroes in Matrix --> {new_mat1[np.where(new_mat1 == 0)].size}\")\n",
        "print(f\"Number of NON-Zeroes in Matrix --> {new_mat1[np.where(new_mat1 != 0)].size}\")"
      ],
      "metadata": {
        "colab": {
          "base_uri": "https://localhost:8080/"
        },
        "id": "Cf9TCJpxei7x",
        "outputId": "7f643afa-eeca-4cba-8976-71456046f8bd"
      },
      "execution_count": 14,
      "outputs": [
        {
          "output_type": "stream",
          "name": "stdout",
          "text": [
            "Number of Zeroes in Matrix --> 9\n",
            "Number of NON-Zeroes in Matrix --> 7\n"
          ]
        }
      ]
    },
    {
      "cell_type": "code",
      "source": [
        "if(zero>non_zero):\n",
        "    print(\"SPARSE MATRIX\")\n",
        "else:\n",
        "    print(\"NOT SPARSE\")"
      ],
      "metadata": {
        "colab": {
          "base_uri": "https://localhost:8080/"
        },
        "id": "E3YePZrue-1Y",
        "outputId": "fec29855-f7ad-46dc-9a72-7aee1b95eaa3"
      },
      "execution_count": 15,
      "outputs": [
        {
          "output_type": "stream",
          "name": "stdout",
          "text": [
            "SPARSE MATRIX\n"
          ]
        }
      ]
    },
    {
      "cell_type": "code",
      "source": [
        "print(m*n%9)"
      ],
      "metadata": {
        "colab": {
          "base_uri": "https://localhost:8080/"
        },
        "id": "P65K8KjwfBJW",
        "outputId": "03e8a37a-c6eb-4971-de6e-5d32eb67d655"
      },
      "execution_count": 16,
      "outputs": [
        {
          "output_type": "stream",
          "name": "stdout",
          "text": [
            "7\n"
          ]
        }
      ]
    },
    {
      "cell_type": "code",
      "source": [
        "import numpy as np\n",
        "import random \n",
        "\n",
        "list=[]\n",
        "for i in range(1,201):\n",
        "  r=random.randint(1,50)\n",
        "  list.append(r)\n",
        "\n",
        "print(list)\n",
        "\n",
        "import csv\n",
        "with open('1906130.csv','a') as f:\n",
        "    writer = csv.writer(f)\n",
        "    writer.writerow(list)"
      ],
      "metadata": {
        "colab": {
          "base_uri": "https://localhost:8080/"
        },
        "id": "EeX-SxcCbr81",
        "outputId": "bfa7df3a-bb77-4627-8baf-c25067b75a81"
      },
      "execution_count": 9,
      "outputs": [
        {
          "output_type": "stream",
          "name": "stdout",
          "text": [
            "[40, 17, 48, 12, 37, 25, 22, 48, 30, 25, 11, 15, 18, 46, 11, 47, 2, 50, 44, 23, 34, 38, 1, 34, 8, 44, 20, 2, 3, 47, 35, 4, 38, 44, 16, 13, 7, 43, 41, 41, 49, 6, 35, 9, 14, 4, 11, 18, 18, 46, 16, 46, 14, 41, 32, 24, 15, 39, 44, 30, 41, 15, 18, 21, 29, 22, 2, 44, 18, 8, 35, 35, 35, 2, 4, 17, 4, 50, 14, 18, 46, 10, 39, 1, 10, 36, 37, 34, 36, 7, 41, 1, 7, 38, 8, 25, 28, 26, 10, 28, 40, 39, 32, 20, 30, 9, 2, 42, 23, 38, 48, 5, 50, 29, 50, 45, 37, 45, 38, 13, 13, 15, 17, 31, 23, 20, 48, 15, 11, 13, 6, 17, 12, 27, 42, 10, 37, 40, 35, 29, 23, 47, 36, 22, 38, 3, 25, 7, 37, 7, 23, 49, 9, 10, 3, 24, 9, 2, 36, 34, 10, 46, 5, 23, 23, 1, 36, 19, 32, 21, 12, 4, 39, 14, 1, 23, 15, 14, 6, 8, 24, 36, 6, 27, 10, 39, 47, 17, 28, 5, 39, 50, 38, 19, 30, 29, 33, 12, 5, 43]\n"
          ]
        }
      ]
    },
    {
      "cell_type": "code",
      "source": [
        "import numpy as np\n",
        "import matplotlib.pyplot as plt\n",
        "import pandas as pd\n",
        "from google.colab import files\n",
        "import pandas as pd\n",
        "uploaded = files.upload()"
      ],
      "metadata": {
        "colab": {
          "resources": {
            "http://localhost:8080/nbextensions/google.colab/files.js": {
              "data": "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",
              "ok": true,
              "headers": [
                [
                  "content-type",
                  "application/javascript"
                ]
              ],
              "status": 200,
              "status_text": ""
            }
          },
          "base_uri": "https://localhost:8080/",
          "height": 74
        },
        "id": "ixXjBXD-feKv",
        "outputId": "ceb470dd-f092-4079-afe0-ef348f9c798b"
      },
      "execution_count": 18,
      "outputs": [
        {
          "output_type": "display_data",
          "data": {
            "text/html": [
              "\n",
              "     <input type=\"file\" id=\"files-8acc45a2-c115-45f7-992f-fbd84f2f32c2\" name=\"files[]\" multiple disabled\n",
              "        style=\"border:none\" />\n",
              "     <output id=\"result-8acc45a2-c115-45f7-992f-fbd84f2f32c2\">\n",
              "      Upload widget is only available when the cell has been executed in the\n",
              "      current browser session. Please rerun this cell to enable.\n",
              "      </output>\n",
              "      <script src=\"/nbextensions/google.colab/files.js\"></script> "
            ],
            "text/plain": [
              "<IPython.core.display.HTML object>"
            ]
          },
          "metadata": {}
        },
        {
          "output_type": "stream",
          "name": "stdout",
          "text": [
            "Saving example.csv.csv to example.csv.csv\n"
          ]
        }
      ]
    },
    {
      "cell_type": "code",
      "source": [
        " def estimate_coef(x,y):\n",
        "   n=np.size(x)\n",
        "   m_x=np.mean(x)\n",
        "   m_y=np.mean(y)\n",
        "   SS_xy=np.sum(y*x)-n*m_y*m_x\n",
        "   SS_xx=np.sum(x*x)-n*m_x*m_x\n",
        "   b_1=SS_xy/SS_xx\n",
        "   b_0=m_y-b_1*m_x\n",
        "   return (b_0,b_1)\n",
        " def plot_regression_line(x,y,b):\n",
        "    plt.scatter(x, y, color = \"green\",marker = \"o\", s = 30)\n",
        "    y_pred = b[0] + b[1]*x\n",
        "    plt.plot(x, y_pred, color = \"black\")\n",
        "    plt.xlabel('x')\n",
        "    plt.ylabel('y')\n",
        "    plt.show()\n",
        "    print(\"Predicted values are: \")\n",
        "    print(y_pred)\n",
        "def main():\n",
        "   x1=[]\n",
        "   y1=[]\n",
        "   col_list=[\"x\",\"y\"]\n",
        "   df=pd.read_csv(\"example.csv.csv\",usecols=col_list)\n",
        "   x1=df[\"x\"].values.tolist()\n",
        "   y1=df[\"y\"].values.tolist()\n",
        "   x=np.array(x1)\n",
        "   y=np.array(y1)\n",
        "   b=estimate_coef(x,y)\n",
        "   print(\"Estimated coefficients:\\nb_0 = {}  \\ \\nb_1 = {}\".format(b[0], b[1]))\n",
        "   plot_regression_line(x,y,b)\n",
        "if __name__ == \"__main__\":\n",
        "    main()\n"
      ],
      "metadata": {
        "colab": {
          "base_uri": "https://localhost:8080/",
          "height": 1000
        },
        "id": "PCkamjsEgu8V",
        "outputId": "acb6b18a-b355-4204-e298-c8336bc6ea39"
      },
      "execution_count": 20,
      "outputs": [
        {
          "output_type": "stream",
          "name": "stdout",
          "text": [
            "Estimated coefficients:\n",
            "b_0 = -0.4618107736611847  \\ \n",
            "b_1 = 1.014335355119518\n"
          ]
        },
        {
          "output_type": "display_data",
          "data": {
            "image/png": "[encoded data removed]",
            "text/plain": [
              "<Figure size 432x288 with 1 Axes>"
            ]
          },
          "metadata": {
            "needs_background": "light"
          }
        },
        {
          "output_type": "stream",
          "name": "stdout",
          "text": [
            "Predicted values are: \n",
            "[ 77.64201157  20.83923168  21.85356704  19.82489633  36.05426201\n",
            "  14.75321955  62.42698124  95.90004796  19.82489633   4.609866\n",
            "   3.59553065  18.81056097  96.91438332  62.42698124  36.05426201\n",
            "  14.75321955  65.46998731  13.7388842   87.78536512  69.52732873\n",
            "  89.81403583  51.26929234  89.81403583  26.92524381  97.92871867\n",
            "  58.36963982  79.67068228  20.83923168  93.87137725  26.92524381\n",
            "  99.95738938  30.98258524  33.01125595  80.68501764  27.93957917\n",
            "  47.21195092  53.29796305  69.52732873  27.93957917  33.01125595\n",
            "  91.84270654  71.55599944  50.25495698  76.62767622   3.59553065\n",
            "  37.06859737  70.54166408  68.51299337  40.11160343  35.03992666\n",
            "  94.88571261  88.79970048  52.28362769  30.98258524  59.38397518\n",
            "  -0.46181077  39.09726808  64.45565195  69.52732873  57.35530447\n",
            "  12.72454884  72.57033479  76.62767622  61.41264589  82.71368835\n",
            "  17.79622562  41.12593879  50.25495698  55.32663376  12.72454884\n",
            "  46.19761556  12.72454884  79.67068228  53.29796305  14.75321955\n",
            "  27.93957917  81.69935299  69.52732873  52.28362769  84.74235906\n",
            "  68.51299337  26.92524381  56.34096911  48.22628627  40.11160343\n",
            "  39.09726808  82.71368835 100.97172474  59.38397518  43.1546095\n",
            "  67.49865802  38.08293272  63.4413166   91.84270654  60.39831053\n",
            "  13.7388842   20.83923168  87.78536512  73.58467015  31.99692059\n",
            "   1.56685994  82.71368835  18.81056097  74.59900551  42.14027414\n",
            "  11.71021349   0.55252458  90.82837119  89.81403583  -0.46181077\n",
            "  41.12593879  15.76755491  94.88571261  97.92871867  66.48432266\n",
            "  23.88223775  16.78189026  90.82837119  12.72454884  -0.46181077\n",
            "  64.45565195  96.91438332  98.94305403  11.71021349  41.12593879\n",
            "  47.21195092  78.65634693  19.82489633  89.81403583  28.95391452\n",
            "  64.45565195  75.61334086  11.71021349  24.8965731   27.93957917\n",
            "  29.96824988  65.46998731  59.38397518  64.45565195  53.29796305\n",
            "  71.55599944  97.92871867  73.58467015   8.66720742  11.71021349\n",
            "  63.4413166   99.95738938  60.39831053  35.03992666   1.56685994\n",
            "  60.39831053  31.99692059  94.88571261  84.74235906  63.4413166\n",
            "  21.85356704  81.69935299  93.87137725  33.01125595   6.63853671\n",
            "  42.14027414  46.19761556  54.3122984   15.76755491  49.24062163\n",
            "  43.1546095   95.90004796  66.48432266  20.83923168  35.03992666\n",
            "  80.68501764  37.06859737  54.3122984   56.34096911   0.55252458\n",
            "  31.99692059  58.36963982  31.99692059  46.19761556  72.57033479\n",
            "  16.78189026  97.92871867  93.87137725  91.84270654  37.06859737\n",
            "   3.59553065  54.3122984   51.26929234  26.92524381  46.19761556\n",
            "  92.8570419   73.58467015  77.64201157  91.84270654  61.41264589\n",
            "  99.95738938   3.59553065  72.57033479  18.81056097  57.35530447\n",
            "  78.65634693  25.91090846  74.59900551  90.82837119  66.48432266\n",
            "  12.72454884  40.11160343  77.64201157  67.49865802  75.61334086\n",
            "  22.86790239  45.18328021  59.38397518  44.16894485  22.86790239\n",
            "  55.32663376  55.32663376  95.90004796  11.71021349   3.59553065\n",
            "   6.63853671 100.97172474  48.22628627  42.14027414  96.91438332\n",
            "  39.09726808 100.97172474  87.78536512  13.7388842   13.7388842\n",
            "  37.06859737   4.609866    88.79970048  91.84270654  65.46998731\n",
            "  74.59900551  56.34096911  15.76755491   4.609866    27.93957917\n",
            "  92.8570419   46.19761556  54.3122984   39.09726808  44.16894485\n",
            "  30.98258524  68.51299337  86.77102977  90.82837119  38.08293272\n",
            "  20.83923168  95.90004796  56.34096911  60.39831053  65.46998731\n",
            "  78.65634693  89.81403583   5.62420136  67.49865802  36.05426201\n",
            "  15.76755491 100.97172474  45.18328021  73.58467015  57.35530447\n",
            "  19.82489633  76.62767622  34.0255913   55.32663376  72.57033479\n",
            "  55.32663376   7.65287207  56.34096911  72.57033479  58.36963982\n",
            "   5.62420136  96.91438332  22.86790239  58.36963982  22.86790239\n",
            "  18.81056097  24.8965731   64.45565195  20.83923168  59.38397518\n",
            "  18.81056097  15.76755491  42.14027414  43.1546095   61.41264589\n",
            "  92.8570419   10.69587813  41.12593879   0.55252458   7.65287207\n",
            "  71.55599944  46.19761556  55.32663376  62.42698124  47.21195092]\n"
          ]
        }
      ]
    }
  ]
}