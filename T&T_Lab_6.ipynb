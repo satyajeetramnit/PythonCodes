{
  "nbformat": 4,
  "nbformat_minor": 0,
  "metadata": {
    "colab": {
      "name": "T&T Lab 6.ipynb",
      "provenance": [],
      "authorship_tag": "ABX9TyOGg+SZ7hA63a+5nZZeiF2+",
      "include_colab_link": true
    },
    "kernelspec": {
      "name": "python3",
      "display_name": "Python 3"
    },
    "language_info": {
      "name": "python"
    }
  },
  "cells": [
    {
      "cell_type": "markdown",
      "metadata": {
        "id": "view-in-github",
        "colab_type": "text"
      },
      "source": [
        "<a href=\"https://colab.research.google.com/github/satyajeetramnit/PythonCodes/blob/main/T%26T_Lab_6.ipynb\" target=\"_parent\"><img src=\"https://colab.research.google.com/assets/colab-badge.svg\" alt=\"Open In Colab\"/></a>"
      ]
    },
    {
      "cell_type": "code",
      "execution_count": 2,
      "metadata": {
        "colab": {
          "base_uri": "https://localhost:8080/"
        },
        "id": "1njaz4hree6c",
        "outputId": "0dccc000-8e15-4a92-e398-029b5c6ba15a"
      },
      "outputs": [
        {
          "name": "stdout",
          "output_type": "stream",
          "text": [
            "Satyajeet Ramnit\n",
            "1906130\n",
            "\n",
            "Menu Driven Program\n",
            "1.Create the list of n numbers\n",
            "2.Remove the nth element from the list\n",
            "3.Sort the data present in the array\n",
            "4.Reverse the list\n",
            "5.Display\n",
            "6.Exit\n",
            "Enter your choice:1\n",
            "List size: 5\n",
            "Enter List :\n",
            "3\n",
            "2\n",
            "5\n",
            "4\n",
            "1\n",
            "Menu Driven Program\n",
            "1.Create the list of n numbers\n",
            "2.Remove the nth element from the list\n",
            "3.Sort the data present in the array\n",
            "4.Reverse the list\n",
            "5.Display\n",
            "6.Exit\n",
            "Enter your choice:2\n",
            "Menu Driven Program\n",
            "1.Create the list of n numbers\n",
            "2.Remove the nth element from the list\n",
            "3.Sort the data present in the array\n",
            "4.Reverse the list\n",
            "5.Display\n",
            "6.Exit\n",
            "Enter your choice:5\n",
            "[3, 2, 5, 4]\n",
            "Menu Driven Program\n",
            "1.Create the list of n numbers\n",
            "2.Remove the nth element from the list\n",
            "3.Sort the data present in the array\n",
            "4.Reverse the list\n",
            "5.Display\n",
            "6.Exit\n",
            "Enter your choice:3\n",
            "Menu Driven Program\n",
            "1.Create the list of n numbers\n",
            "2.Remove the nth element from the list\n",
            "3.Sort the data present in the array\n",
            "4.Reverse the list\n",
            "5.Display\n",
            "6.Exit\n",
            "Enter your choice:5\n",
            "[2, 3, 4, 5]\n",
            "Menu Driven Program\n",
            "1.Create the list of n numbers\n",
            "2.Remove the nth element from the list\n",
            "3.Sort the data present in the array\n",
            "4.Reverse the list\n",
            "5.Display\n",
            "6.Exit\n",
            "Enter your choice:4\n",
            "Menu Driven Program\n",
            "1.Create the list of n numbers\n",
            "2.Remove the nth element from the list\n",
            "3.Sort the data present in the array\n",
            "4.Reverse the list\n",
            "5.Display\n",
            "6.Exit\n",
            "Enter your choice:5\n",
            "[5, 4, 3, 2]\n",
            "Menu Driven Program\n",
            "1.Create the list of n numbers\n",
            "2.Remove the nth element from the list\n",
            "3.Sort the data present in the array\n",
            "4.Reverse the list\n",
            "5.Display\n",
            "6.Exit\n",
            "Enter your choice:6\n"
          ]
        }
      ],
      "source": [
        "print(\"Satyajeet Ramnit\\n1906130\\n\")\n",
        "a=[]\n",
        "while True:\n",
        "    print(\"Menu Driven Program\")\n",
        "    print(\"1.Create the list of n numbers\")\n",
        "    print(\"2.Remove the nth element from the list\")\n",
        "    print(\"3.Sort the data present in the array\")\n",
        "    print(\"4.Reverse the list\")\n",
        "    print(\"5.Display\")    \n",
        "    print(\"6.Exit\")\n",
        "    choice=int(input(\"Enter your choice:\"))\n",
        "    if choice==1:\n",
        "        n=int(input(\"List size: \"))\n",
        "        print(\"Enter List :\")\n",
        "        for i in range(n):\n",
        "            t=int(input())\n",
        "            a.append(t)\n",
        "    \n",
        "    elif choice==2:\n",
        "        a.remove(a[n-1])\n",
        "    \n",
        "    elif choice==3:\n",
        "        a.sort()\n",
        "\n",
        "    elif choice==4:\n",
        "        a.reverse()\n",
        "\n",
        "    elif choice==5:\n",
        "        print(a)\n",
        "\n",
        "    elif choice==6:\n",
        "        break\n",
        "    else:\n",
        "        print(\"Wrong Choice\")"
      ]
    },
    {
      "cell_type": "code",
      "source": [
        "print(\"Satyajeet Ramnit\\n1906130\\n\")\n",
        "def postfix_eval(s):\n",
        "    s=s.split()\n",
        "    n=len(s)\n",
        "    stack =[]\n",
        "    for i in range(n):\n",
        "        if s[i].isdigit():\n",
        "            stack.append(int(s[i]))\n",
        "        elif s[i]==\"+\":\n",
        "            a=stack.pop()\n",
        "            b=stack.pop()\n",
        "            stack.append(int(a)+int(b))\n",
        "        elif s[i]==\"*\":\n",
        "            a=stack.pop()\n",
        "            b=stack.pop()\n",
        "            stack.append(int(a)*int(b))\n",
        "        elif s[i]==\"/\":\n",
        "            a=stack.pop()\n",
        "            b=stack.pop()\n",
        "            stack.append(int(b)/int(a))\n",
        "        elif s[i]==\"-\":\n",
        "            a=stack.pop()\n",
        "            b=stack.pop()\n",
        "            stack.append(int(b)-int(a))            \n",
        "    return stack.pop()\n",
        "\n",
        "s=\"100 200 8 * + 3 -\"\n",
        "val=postfix_eval(s)\n",
        "print(val)"
      ],
      "metadata": {
        "colab": {
          "base_uri": "https://localhost:8080/"
        },
        "id": "yvoycZEef0Kg",
        "outputId": "988a4439-4691-4df2-b6db-0500051c84b8"
      },
      "execution_count": 4,
      "outputs": [
        {
          "output_type": "stream",
          "name": "stdout",
          "text": [
            "Satyajeet Ramnit\n",
            "1906130\n",
            "\n",
            "1697\n"
          ]
        }
      ]
    },
    {
      "cell_type": "code",
      "source": [
        "print(\"Satyajeet Ramnit\\n1906130\\n\")\n",
        "a=[]\n",
        "c=[]\n",
        "print(\"For List 1 :\")\n",
        "n1=int(input(\"Number of elements: \"))\n",
        "for i in range(1,n1+1):\n",
        "    b=int(input(\"Element: \"))\n",
        "    a.append(b)\n",
        "\n",
        "print(\"For List 2 :\")\n",
        "n2=int(input(\"Number of elements: \"))\n",
        "for i in range(1,n2+1):\n",
        "    d=int(input(\"Enter element:\"))\n",
        "    c.append(d)\n",
        "new=a+c\n",
        "new.sort()\n",
        "print(\"Sorted list is:\",new)"
      ],
      "metadata": {
        "colab": {
          "base_uri": "https://localhost:8080/"
        },
        "id": "G7pOCk8Wk33d",
        "outputId": "d81b61b5-e236-4281-ece5-d3280d3c8c2f"
      },
      "execution_count": 11,
      "outputs": [
        {
          "output_type": "stream",
          "name": "stdout",
          "text": [
            "Satyajeet Ramnit\n",
            "1906130\n",
            "\n",
            "For List 1 :\n",
            "Number of elements: 3\n",
            "Element: 1\n",
            "Element: 2\n",
            "Element: 3\n",
            "For List 2 :\n",
            "Number of elements: 3\n",
            "Enter element:6\n",
            "Enter element:5\n",
            "Enter element:4\n",
            "Sorted list is: [1, 2, 3, 4, 5, 6]\n"
          ]
        }
      ]
    },
    {
      "cell_type": "code",
      "source": [
        "print(\"Satyajeet Ramnit\\n1906130\\n\")\n",
        "import pandas as pd\n",
        "\n",
        "n1=int(input(\"Enter number of elements:\"))\n",
        "data=[]\n",
        "for i in range(n1):\n",
        "    roll=int(input(\"Enter Roll:\"))\n",
        "    name=input(\"Enter Name:\")\n",
        "    age=input(\"Enter age:\")\n",
        "    ele=(roll,name,age)\n",
        "    data.append(ele)\n",
        "\n",
        "df = pd.DataFrame(data, columns =['Roll', 'Name', 'Age'])\n",
        "  \n",
        "print(df)"
      ],
      "metadata": {
        "colab": {
          "base_uri": "https://localhost:8080/"
        },
        "id": "8qKgPpPAma2i",
        "outputId": "60c7ed67-6dbc-4692-848d-f03fab6f9d05"
      },
      "execution_count": 6,
      "outputs": [
        {
          "output_type": "stream",
          "name": "stdout",
          "text": [
            "Satyajeet Ramnit\n",
            "1906130\n",
            "\n",
            "Enter number of elements:2\n",
            "Enter Roll:130\n",
            "Enter Name:Satyajeet\n",
            "Enter age:100\n",
            "Enter Roll:131\n",
            "Enter Name:Satyam\n",
            "Enter age:-100\n",
            "   Roll       Name   Age\n",
            "0   130  Satyajeet   100\n",
            "1   131     Satyam  -100\n"
          ]
        }
      ]
    },
    {
      "cell_type": "code",
      "source": [
        "print(\"Satyajeet Ramnit\\n1906130\\n\")\n",
        "song = {\n",
        "\"title\": \"We Are the Champions\",\n",
        "\"album\": \"News of the World\",\n",
        "\"artist\": \"Queen\",\n",
        "\"genre\": \"Arena rock\",\n",
        "\"release year\": \"1977\",\n",
        "\"length\": \"2.59\",\n",
        "\"length (seconds)\": \"179\",\n",
        "\"songwriter\": \"Freddie Mercury\",\n",
        "\"producers\": \"Queen, Mike \\\"Clay\\\" Stone\"\n",
        "}\n",
        "st=input(\"enter key:\")\n",
        "print(song[st])"
      ],
      "metadata": {
        "colab": {
          "base_uri": "https://localhost:8080/"
        },
        "id": "AHXpylp1m0Ax",
        "outputId": "6b82e3bf-6cab-4287-fdd8-86ef87201823"
      },
      "execution_count": 8,
      "outputs": [
        {
          "output_type": "stream",
          "name": "stdout",
          "text": [
            "Satyajeet Ramnit\n",
            "1906130\n",
            "\n",
            "enter key:title\n",
            "We Are the Champions\n"
          ]
        }
      ]
    },
    {
      "cell_type": "code",
      "source": [
        "print(\"Satyajeet Ramnit\\n1906130\\n\")\n",
        "while True:\n",
        "    print(\"Menu Driven Program\")\n",
        "    print(\"1.Create a set\")\n",
        "    print(\"2.Merge two set\")\n",
        "    print(\"3.Union of two set\")   \n",
        "    print(\"4.Exit\")\n",
        "    choice=int(input(\"Enter your choice:\"))\n",
        "    if choice==1:\n",
        "        print(\"For set 1 :\")\n",
        "        l1 = [eval(x) for x in input(\"Enter elements: \").split(',')]\n",
        "        s1=set(l1)\n",
        "        print(s1)\n",
        "        print(\"For set 2 :\")\n",
        "        l2 = [eval(x) for x in input(\"Enter elements: \").split(',')]\n",
        "        s2=set(l2)\n",
        "        print(s2)\n",
        "    \n",
        "    elif choice==2:\n",
        "        print('Merging set1 and set2 - ', s1 | s2)\n",
        "    \n",
        "    elif choice==3:\n",
        "        print(\"Union\")\n",
        "        s3 = s1.union(s2)\n",
        "        print(s3)\n",
        "\n",
        "    elif choice==4:\n",
        "        break\n",
        "    else:\n",
        "        print(\"Wrong Choice\")"
      ],
      "metadata": {
        "colab": {
          "base_uri": "https://localhost:8080/"
        },
        "id": "JXQi04fXnGAc",
        "outputId": "7df49e89-d172-487a-d8bf-bedec1ed47e7"
      },
      "execution_count": 14,
      "outputs": [
        {
          "name": "stdout",
          "output_type": "stream",
          "text": [
            "Satyajeet Ramnit\n",
            "1906130\n",
            "\n",
            "Menu Driven Program\n",
            "1.Create a set\n",
            "2.Merge two set\n",
            "3.Union of two set\n",
            "4.Exit\n",
            "Enter your choice:1\n",
            "For set 1 :\n",
            "Enter elements: 1,2,3\n",
            "{1, 2, 3}\n",
            "For set 2 :\n",
            "Enter elements: 2,3,4\n",
            "{2, 3, 4}\n",
            "Menu Driven Program\n",
            "1.Create a set\n",
            "2.Merge two set\n",
            "3.Union of two set\n",
            "4.Exit\n",
            "Enter your choice:2\n",
            "Merging set1 and set2 -  {1, 2, 3, 4}\n",
            "Menu Driven Program\n",
            "1.Create a set\n",
            "2.Merge two set\n",
            "3.Union of two set\n",
            "4.Exit\n",
            "Enter your choice:3\n",
            "Union\n",
            "{1, 2, 3, 4}\n",
            "Menu Driven Program\n",
            "1.Create a set\n",
            "2.Merge two set\n",
            "3.Union of two set\n",
            "4.Exit\n",
            "Enter your choice:4\n"
          ]
        }
      ]
    }
  ]
}