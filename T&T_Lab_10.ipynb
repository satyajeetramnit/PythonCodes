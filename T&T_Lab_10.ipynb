{
  "nbformat": 4,
  "nbformat_minor": 0,
  "metadata": {
    "colab": {
      "name": "T&T Lab 10.ipynb",
      "provenance": [],
      "collapsed_sections": [],
      "authorship_tag": "ABX9TyPKGwknT09WXLwPurCy1YtK",
      "include_colab_link": true
    },
    "kernelspec": {
      "name": "python3",
      "display_name": "Python 3"
    },
    "language_info": {
      "name": "python"
    }
  },
  "cells": [
    {
      "cell_type": "markdown",
      "metadata": {
        "id": "view-in-github",
        "colab_type": "text"
      },
      "source": [
        "<a href=\"https://colab.research.google.com/github/satyajeetramnit/PythonCodes/blob/main/T%26T_Lab_10.ipynb\" target=\"_parent\"><img src=\"https://colab.research.google.com/assets/colab-badge.svg\" alt=\"Open In Colab\"/></a>"
      ]
    },
    {
      "cell_type": "markdown",
      "source": [
        "Q1. Write a Pandas program to get the powers of an array values element-wise.\n",
        "Sample data: {&#39;X&#39;:[78,85,96,80,86], &#39;Y&#39;:[84,94,89,83,86],&#39;Z&#39;:[86,97,96,72,83]}\n",
        "\n",
        "Expected Output:\n",
        "\n",
        "X Y Z\n",
        "\n",
        "0 78 84 86\n",
        "\n",
        "1 85 94 97\n",
        "\n",
        "2 96 89 96\n",
        "\n",
        "3 80 83 72\n",
        "\n",
        "4 86 86 83"
      ],
      "metadata": {
        "id": "dsnF0vDDfxdJ"
      }
    },
    {
      "cell_type": "code",
      "execution_count": null,
      "metadata": {
        "colab": {
          "base_uri": "https://localhost:8080/"
        },
        "id": "Db2cxhR3frjo",
        "outputId": "d7e2307f-5b1e-4986-d8a7-333ff2d3d19a"
      },
      "outputs": [
        {
          "output_type": "stream",
          "name": "stdout",
          "text": [
            "1906130 - Satyajeet Ramnit\n",
            "    X   Y   Z\n",
            "0  78  84  86\n",
            "1  85  94  97\n",
            "2  96  89  96\n",
            "3  80  83  72\n",
            "4  86  86  83\n"
          ]
        }
      ],
      "source": [
        "print(\"1906130 - Satyajeet Ramnit\")\n",
        "import pandas as pd\n",
        "df = pd.DataFrame({'X':[78,85,96,80,86], 'Y':[84,94,89,83,86],'Z':[86,97,96,72,83]});\n",
        "print(df)"
      ]
    },
    {
      "cell_type": "markdown",
      "source": [
        "Q2.data frame\n",
        "\n",
        "exam_data = {&#39;name&#39;: [&#39;Anastasia&#39;, &#39;Dima&#39;, &#39;Katherine&#39;, &#39;James&#39;, &#39;Emily&#39;, &#39;Michael&#39;, &#39;Matthew&#39;, &#39;Laura&#39;,\n",
        "&#39;Kevin&#39;, &#39;Jonas&#39;],\n",
        "\n",
        "&#39;score&#39;: [12.5, 9, 16.5, np.nan, 9, 20, 14.5, np.nan, 8, 19],\n",
        "\n",
        "&#39;attempts&#39;: [1, 3, 2, 3, 2, 3, 1, 1, 2, 1],\n",
        "\n",
        "&#39;qualify&#39;: [&#39;yes&#39;, &#39;no&#39;, &#39;yes&#39;, &#39;no&#39;, &#39;no&#39;, &#39;yes&#39;, &#39;yes&#39;, &#39;no&#39;, &#39;no&#39;, &#39;yes&#39;]}\n",
        "\n",
        "labels = [&#39;a&#39;, &#39;b&#39;, &#39;c&#39;, &#39;d&#39;, &#39;e&#39;, &#39;f&#39;, &#39;g&#39;, &#39;h&#39;, &#39;i&#39;, &#39;j&#39;]\n",
        "\n",
        "Expected Output:\n",
        "\n",
        "attempts name qualify score\n",
        "\n",
        "a 1 Anastasia yes 12.5\n",
        "\n",
        "b 3 Dima no 9.0\n",
        "\n",
        ".... i 2 Kevin no 8.0\n",
        "\n",
        "j 1 Jonas yes 19.0index labels.\n",
        "\n",
        "Q2. Write a Pandas program to create and display a DataFrame from a specified dictionary data which has the Sample Python dictionary data and list labels:"
      ],
      "metadata": {
        "id": "kqrympvjgKmi"
      }
    },
    {
      "cell_type": "code",
      "source": [
        "print(\"1906130 - Satyajeet Ramnit\")\n",
        "import pandas as pd\n",
        "import numpy as np\n",
        "\n",
        "exam_data  = {'name': ['Anastasia', 'Dima', 'Katherine', 'James', 'Emily', 'Michael', 'Matthew', 'Laura', 'Kevin', 'Jonas'],\n",
        "        'score': [12.5, 9, 16.5, np.nan, 9, 20, 14.5, np.nan, 8, 19],\n",
        "        'attempts': [1, 3, 2, 3, 2, 3, 1, 1, 2, 1],\n",
        "        'qualify': ['yes', 'no', 'yes', 'no', 'no', 'yes', 'yes', 'no', 'no', 'yes']}\n",
        "labels = ['a', 'b', 'c', 'd', 'e', 'f', 'g', 'h', 'i', 'j']\n",
        "\n",
        "df = pd.DataFrame(exam_data , index=labels)\n",
        "print(df)"
      ],
      "metadata": {
        "colab": {
          "base_uri": "https://localhost:8080/"
        },
        "id": "lupHuaMcgLHa",
        "outputId": "c89493e9-6b0b-467c-9bce-4935fa155f9b"
      },
      "execution_count": null,
      "outputs": [
        {
          "output_type": "stream",
          "name": "stdout",
          "text": [
            "1906130 - Satyajeet Ramnit\n",
            "        name  score  attempts qualify\n",
            "a  Anastasia   12.5         1     yes\n",
            "b       Dima    9.0         3      no\n",
            "c  Katherine   16.5         2     yes\n",
            "d      James    NaN         3      no\n",
            "e      Emily    9.0         2      no\n",
            "f    Michael   20.0         3     yes\n",
            "g    Matthew   14.5         1     yes\n",
            "h      Laura    NaN         1      no\n",
            "i      Kevin    8.0         2      no\n",
            "j      Jonas   19.0         1     yes\n"
          ]
        }
      ]
    },
    {
      "cell_type": "markdown",
      "source": [
        "Q3. Write a Pandas program to display a summary of the basic information about a specified DataFrame\n",
        "and its data."
      ],
      "metadata": {
        "id": "q25zuOuWgPnJ"
      }
    },
    {
      "cell_type": "code",
      "source": [
        "print(\"1906130 - Satyajeet Ramnit\")\n",
        "print(\"Summary\")\n",
        "print(df.info())"
      ],
      "metadata": {
        "colab": {
          "base_uri": "https://localhost:8080/"
        },
        "id": "zpBTG7uLgQFG",
        "outputId": "de363487-9ab7-4e9f-d24b-3c64010022da"
      },
      "execution_count": null,
      "outputs": [
        {
          "output_type": "stream",
          "name": "stdout",
          "text": [
            "1906130 - Satyajeet Ramnit\n",
            "Summary\n",
            "<class 'pandas.core.frame.DataFrame'>\n",
            "Index: 10 entries, a to j\n",
            "Data columns (total 4 columns):\n",
            " #   Column    Non-Null Count  Dtype  \n",
            "---  ------    --------------  -----  \n",
            " 0   name      10 non-null     object \n",
            " 1   score     8 non-null      float64\n",
            " 2   attempts  10 non-null     int64  \n",
            " 3   qualify   10 non-null     object \n",
            "dtypes: float64(1), int64(1), object(2)\n",
            "memory usage: 400.0+ bytes\n",
            "None\n"
          ]
        }
      ]
    },
    {
      "cell_type": "markdown",
      "source": [
        "Q4. Write a Pandas program to get the first 3 rows of a given DataFrame."
      ],
      "metadata": {
        "id": "a5hKysJGifmf"
      }
    },
    {
      "cell_type": "code",
      "source": [
        "print(\"1906130 - Satyajeet Ramnit\")\n",
        "print(\"First 3 rows:\")\n",
        "print(df.head(3))"
      ],
      "metadata": {
        "colab": {
          "base_uri": "https://localhost:8080/"
        },
        "id": "W5-TTDI7igLU",
        "outputId": "30b1f588-d631-4972-87bf-1cd95966ff26"
      },
      "execution_count": null,
      "outputs": [
        {
          "output_type": "stream",
          "name": "stdout",
          "text": [
            "1906130 - Satyajeet Ramnit\n",
            "First 3 rows:\n",
            "        name  score  attempts qualify\n",
            "a  Anastasia   12.5         1     yes\n",
            "b       Dima    9.0         3      no\n",
            "c  Katherine   16.5         2     yes\n"
          ]
        }
      ]
    },
    {
      "cell_type": "markdown",
      "source": [
        "Q5. i. WAP to demonstrate all types of inheritance."
      ],
      "metadata": {
        "id": "YE1v3cgxkwpD"
      }
    },
    {
      "cell_type": "code",
      "source": [
        "print(\"1906130 - Satyajeet Ramnit\")\n",
        "print(\"Single Inheritence\")  #When a child class inherits only a single parent class\n",
        "class Parent:\n",
        "     def func1(self):\n",
        "          print(\"Function - 1\")\n",
        "class Child0(Parent):\n",
        "     def func2(self):\n",
        "          print(\"Function - 2\")\n",
        "ob = Child0()\n",
        "ob.func1()\n",
        "ob.func2()\n",
        "print(\"_________________________________________________\")\n",
        "print(\"Multiple Inheritence\") #When a child class inherits from more than one parent class.\n",
        "class Parent1:\n",
        "   def func1(self):\n",
        "        print(\"Function - 1\")\n",
        "class Parent2:\n",
        "   def func2(self):\n",
        "        print(\"Function - 2\")\n",
        "class Child1(Parent1 , Parent2):\n",
        "    def func3(self):\n",
        "        print(\"Function - 3\")\n",
        " \n",
        "ob = Child1()\n",
        "ob.func1()\n",
        "ob.func2()\n",
        "ob.func3()\n",
        "print(\"_________________________________________________\") \n",
        "print(\"Multilevel Inheritence\") #When a child class becomes a parent class for another child class.\n",
        "class Parent:\n",
        "      def func1(self):\n",
        "          print(\"Function - 1\")\n",
        "class Child2(Parent):\n",
        "      def func2(self):\n",
        "          print(\"Function - 2\")\n",
        "class Child3(Child2):\n",
        "      def func3(self):\n",
        "        print(\"Function - 3\")\n",
        "\n",
        "ob = Child3()\n",
        "ob.func1()\n",
        "ob.func2()\n",
        "ob.func3()\n",
        "print(\"_________________________________________________\")"
      ],
      "metadata": {
        "colab": {
          "base_uri": "https://localhost:8080/"
        },
        "id": "NYognR6ikxZJ",
        "outputId": "1d989cc1-6a47-4d88-cefb-65c51cbbe58f"
      },
      "execution_count": null,
      "outputs": [
        {
          "output_type": "stream",
          "name": "stdout",
          "text": [
            "1906130 - Satyajeet Ramnit\n",
            "Single Inheritence\n",
            "Function - 1\n",
            "Function - 2\n",
            "_________________________________________________\n",
            "Multiple Inheritence\n",
            "Function - 1\n",
            "Function - 2\n",
            "Function - 3\n",
            "_________________________________________________\n",
            "Multilevel Inheritence\n",
            "Function - 1\n",
            "Function - 2\n",
            "Function - 3\n",
            "_________________________________________________\n"
          ]
        }
      ]
    },
    {
      "cell_type": "markdown",
      "source": [
        "ii. Create a class student which stores name, roll number and age of a student. Derive a class test from student class, which stores marks in 5 subjects. Input and display the details of a student. iii. Extend the program ii. to derive a class from result from classs ‘test’ which includes member function to calculate total marks and percentage of a student. Input the data for a student and display its total marks and percentage. iv. Extend the program ii. to include a class sports, which stores the marks in sports activity. Derive the result class from the classes ‘test’ and ‘sports’. Calculate the total marks and percentage of a student."
      ],
      "metadata": {
        "id": "XLKRfsSc2UIm"
      }
    },
    {
      "cell_type": "code",
      "source": [
        "print(\"1906130 - Satyajeet Ramnit\")\n",
        "class Student:  \n",
        "    #defining constructor  \n",
        "    def __init__(self):  \n",
        "        self.name = input(\"Enter your name:\")\n",
        "        self.roll = int(input(\"Enter your roll number:\"))\n",
        "        self.age = int(input(\"Enter your age (in years):\"))\n",
        "\n",
        "class Test(Student): \n",
        "    def __init__(self):\n",
        "        Student.__init__(self)\n",
        "        self.m=[0,0,0,0,0]\n",
        "        print(\"Enter your marks out of 100, for 5 subjects:\")\n",
        "        self.sum=0\n",
        "        for i in range(5):\n",
        "          self.m[i] = int(input(\"Enter marks: \"))\n",
        "          self.sum += self.m[i]\n",
        "   \n",
        "class Sports(Student):\n",
        "    def __init__(self):\n",
        "      self.sportsmarks = int(input(\"Enter marks in sports: \"))\n",
        "\n",
        "class Result(Test, Sports):\n",
        "    def __init__(self):\n",
        "      Test.__init__(self)\n",
        "      Sports.__init__(self)\n",
        "      self.average = (self.sum+self.sportsmarks)/6\n",
        "\n",
        "    def displayresult(self):\n",
        "        print(\"Details -------------------------\")\n",
        "        print(\"Name:       \",self.name)\n",
        "        print(\"Roll Number:\",self.roll)\n",
        "        print(\"Age:        \",self.age)\n",
        "        print(\"Marks -------------------------\")\n",
        "        for i in range(5):\n",
        "          print(\"Subject\",i+1,\":  \",self.m[i])\n",
        "        print(\"Sports marks:\",self.sportsmarks)\n",
        "        print(\"RESULT -------------------------\")\n",
        "        print(\"Percentage obtained:\",self.average)\n",
        "\n",
        "# Create an object of the subclass\n",
        "student1 = Result()  \n",
        "student1.displayresult()9"
      ],
      "metadata": {
        "colab": {
          "base_uri": "https://localhost:8080/"
        },
        "id": "T6zi3z3H2U6L",
        "outputId": "4769e7f6-1d6c-4ace-cbed-7d1f33b9b5b7"
      },
      "execution_count": null,
      "outputs": [
        {
          "output_type": "stream",
          "name": "stdout",
          "text": [
            "1906130 - Satyajeet Ramnit\n",
            "Enter your name:Satyajeet\n",
            "Enter your roll number:1906130\n",
            "Enter your age (in years):21\n",
            "Enter your marks out of 100, for 5 subjects:\n",
            "Enter marks: 100\n",
            "Enter marks: 99\n",
            "Enter marks: 98\n",
            "Enter marks: 97\n",
            "Enter marks: 96\n",
            "Enter marks in sports: 95\n",
            "Details -------------------------\n",
            "Name:        Satyajeet\n",
            "Roll Number: 1906130\n",
            "Age:         21\n",
            "Marks -------------------------\n",
            "Subject 1 :   100\n",
            "Subject 2 :   99\n",
            "Subject 3 :   98\n",
            "Subject 4 :   97\n",
            "Subject 5 :   96\n",
            "Sports marks: 95\n",
            "RESULT -------------------------\n",
            "Percentage obtained: 97.5\n"
          ]
        }
      ]
    },
    {
      "cell_type": "markdown",
      "source": [
        "v. Create a class ‘shape’. Derive three classes from it: Circle, Triangle and Rectangle. Include the relevant data members and functions in all the classes. Find the area of each shape and display it"
      ],
      "metadata": {
        "id": "Rq7zXSAU5WNb"
      }
    },
    {
      "cell_type": "code",
      "source": [
        "print(\"1906130 - Satyajeet Ramnit\")\n",
        "class shape:\n",
        "  def __init__(self):\n",
        "    self.t=0\n",
        "    self.c=0\n",
        "    self.r=0\n",
        "\n",
        "class circle(shape):\n",
        "  def __init__(self):\n",
        "    shape.__init__(self)\n",
        "    self.r=int(input(\"Enter the radius of the circle: \"))\n",
        "    print(3.14*(self.r**2))\n",
        "\n",
        "class triangle(shape):\n",
        "  def __init__(self):\n",
        "    self.b=int(input(\"Enter the base of the triangle: \"))\n",
        "    self.h=int(input(\"Enter the height of the triangle: \"))\n",
        "    print(0.5*self.b*self.h)\n",
        "\n",
        "class rectangle(shape):\n",
        "  def __init__(self):\n",
        "    self.l=int(input(\"Enter the length of the rectangle: \"))\n",
        "    self.w=int(input(\"Enter the width of the rectangle: \"))\n",
        "    print(self.l*self.w)\n",
        "\n",
        "ob=circle()\n",
        "ob=triangle()\n",
        "ob=rectangle()"
      ],
      "metadata": {
        "id": "rB8zjqBX5Wft",
        "colab": {
          "base_uri": "https://localhost:8080/"
        },
        "outputId": "6b836c74-e6e9-449c-d29e-03e13b10cb0f"
      },
      "execution_count": null,
      "outputs": [
        {
          "output_type": "stream",
          "name": "stdout",
          "text": [
            "1906130 - Satyajeet Ramnit\n",
            "Enter the radius of the circle: 5\n",
            "78.5\n",
            "Enter the base of the triangle: 12\n",
            "Enter the height of the triangle: 13\n",
            "78.0\n",
            "Enter the length of the rectangle: 4\n",
            "Enter the width of the rectangle: 3\n",
            "12\n"
          ]
        }
      ]
    },
    {
      "cell_type": "markdown",
      "source": [
        "vi. Create a class which stores employee name,id and salary Derive two classes from ‘Employee’ class:‘Regular’ and ‘Part-Time’. The ‘Regular’ class stores DA, HRA and basic salary. The ‘PartTime’ class stores the number of hours and pay per hour. Calculate the salary of a regular employee and a par-time employee. \n"
      ],
      "metadata": {
        "id": "cMoNApP4-4_C"
      }
    },
    {
      "cell_type": "code",
      "source": [
        "print(\"1906130 - Satyajeet Ramnit\")\n",
        "class regular:\n",
        "  def __init__(self):\n",
        "    print(\"REGULAR EMPLOYEE ----------\")\n",
        "    self.name=input(\"Enter the name of the employee: \")\n",
        "    self.id=input(\"Enter the I'd of the employee: \")\n",
        "    self.basic = int(input(\"Enter the basic of the employee: \"))\n",
        "\n",
        "class parttime:\n",
        "  def __init__(self):\n",
        "    print(\"PART-TIME EMPLOYEE ----------\")\n",
        "    self.name=input(\"Enter the name of the employee: \")\n",
        "    self.id=input(\"Enter the I'd of the employee: \")\n",
        "    self.pph = int(input(\"Enter the pay per hour of the employee: \"))\n",
        "    self.hour = int(input(\"Enter the hour of work of the employee: \"))\n",
        "\n",
        "class employee(regular,parttime):\n",
        "    def __init__ (self):\n",
        "      regular.__init__(self)\n",
        "      parttime.__init__(self)\n",
        "\n",
        "    def display(self):\n",
        "      print(\"Salary of regular employee per month =\",self.basic + 0.08*self.basic + 0.1*self.basic)\n",
        "      print(\"Salary of part-time employee of one day according to work hours =\",self.pph*self.hour)\n",
        "\n",
        "\n",
        "ob = employee()\n",
        "ob.display()"
      ],
      "metadata": {
        "colab": {
          "base_uri": "https://localhost:8080/"
        },
        "id": "I9U_-CQC--Y5",
        "outputId": "276cae1a-bb4c-42f2-cbea-8238421b7f6c"
      },
      "execution_count": null,
      "outputs": [
        {
          "output_type": "stream",
          "name": "stdout",
          "text": [
            "1906130 - Satyajeet Ramnit\n",
            "REGULAR EMPLOYEE ----------\n",
            "Enter the name of the employee: Satyajeet\n",
            "Enter the I'd of the employee: 1906130\n",
            "Enter the basic of the employee: 1000000\n",
            "PART-TIME EMPLOYEE ----------\n",
            "Enter the name of the employee: Yuthika\n",
            "Enter the I'd of the employee: 1906150\n",
            "Enter the pay per hour of the employee: 200\n",
            "Enter the hour of work of the employee: 6\n",
            "Salary of regular employee per month = 1180000.0\n",
            "Salary of part-time employee of one day according to work hours = 1200\n"
          ]
        }
      ]
    },
    {
      "cell_type": "markdown",
      "source": [
        "vii. Create a class which stores account number, customer name and balance. Derive two classes from ‘Account’ class: ‘Savings’ and ‘Current’. The ‘Savings’ class stores minimum balance. The ‘Current’ class stores the over-due amount. Include member functions in the appropriate class for -deposit money-withdraw [For saving account minimum balance should be checked.] [For current account overdue amount should be calculated.] -display balance using python"
      ],
      "metadata": {
        "id": "VO_ctkfQ_TVc"
      }
    },
    {
      "cell_type": "code",
      "source": [
        "print(\"1906130 - Satyajeet Ramnit\")"
      ],
      "metadata": {
        "id": "f5FPWVPM_XkS"
      },
      "execution_count": null,
      "outputs": []
    }
  ]
}